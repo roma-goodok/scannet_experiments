{
 "cells": [
  {
   "cell_type": "markdown",
   "metadata": {},
   "source": [
    "# Plan\n",
    "\n",
    "- merge two types of file\n",
    "    - Obtain vertices, faces, colors from first file, but labels from second file.\n",
    "    - And save in single joined file with extantion `.ply` in `scannet_merged_ply` directory\n",
    "\n",
    "- debug transformations"
   ]
  },
  {
   "cell_type": "markdown",
   "metadata": {},
   "source": [
    "# Imports"
   ]
  },
  {
   "cell_type": "code",
   "execution_count": 1,
   "metadata": {},
   "outputs": [],
   "source": [
    "import os, sys\n",
    "import time\n",
    "import math\n",
    "import numpy as np\n",
    "import pandas as pd\n",
    "import datetime\n",
    "import glob\n",
    "from IPython.display import display, HTML, FileLink\n",
    "from pathlib import Path\n",
    "from os.path import join, exists, basename, splitext\n",
    "from matplotlib import pyplot as plt\n",
    "from matplotlib import cm\n",
    "import shutil\n",
    "from tqdm import tqdm\n",
    "from joblib import Parallel, delayed, cpu_count\n",
    "\n",
    "# autoreload python modules on the fly when its source is changed\n",
    "%load_ext autoreload\n",
    "%autoreload 2"
   ]
  },
  {
   "cell_type": "code",
   "execution_count": 2,
   "metadata": {},
   "outputs": [],
   "source": [
    "from fastai_sparse import utils, visualize\n",
    "from fastai_sparse.utils import log\n",
    "from fastai_sparse.visualize.utils import export_ply\n",
    "from fastai_sparse.data_items import MeshItem\n",
    "\n",
    "#visualize.options.interactive = False"
   ]
  },
  {
   "cell_type": "code",
   "execution_count": 3,
   "metadata": {},
   "outputs": [
    {
     "data": {
      "text/plain": [
       "16"
      ]
     },
     "execution_count": 3,
     "metadata": {},
     "output_type": "execute_result"
    }
   ],
   "source": [
    "n_jobs = cpu_count()\n",
    "n_jobs"
   ]
  },
  {
   "cell_type": "markdown",
   "metadata": {},
   "source": [
    "# Source"
   ]
  },
  {
   "cell_type": "code",
   "execution_count": 4,
   "metadata": {},
   "outputs": [],
   "source": [
    "SOURCE_DIR = Path('scannet')\n",
    "assert SOURCE_DIR.exists(), \"Download scannet (see download_scannet.sh) and set path\""
   ]
  },
  {
   "cell_type": "code",
   "execution_count": 5,
   "metadata": {},
   "outputs": [],
   "source": [
    "definition_of_spliting_dir = Path('ScanNet_Tasks_Benchmark')\n",
    "assert definition_of_spliting_dir.exists()"
   ]
  },
  {
   "cell_type": "code",
   "execution_count": 6,
   "metadata": {},
   "outputs": [
    {
     "name": "stdout",
     "output_type": "stream",
     "text": [
      "Number of files found: 1513\n"
     ]
    }
   ],
   "source": [
    "def find_files(path, ext='_vh_clean_2.ply'):\n",
    "    pattern = str(path / '*' / ('*' + ext))\n",
    "    fnames = glob.glob(pattern)\n",
    "    return fnames\n",
    "\n",
    "print(\"Number of files found:\", len(find_files(SOURCE_DIR)))"
   ]
  },
  {
   "cell_type": "markdown",
   "metadata": {},
   "source": [
    "# Target"
   ]
  },
  {
   "cell_type": "code",
   "execution_count": 7,
   "metadata": {},
   "outputs": [],
   "source": [
    "TARGET_DIR = Path('scannet_merged_ply')\n",
    "\n",
    "if not TARGET_DIR.exists():\n",
    "    os.mkdir(str(TARGET_DIR))"
   ]
  },
  {
   "cell_type": "markdown",
   "metadata": {},
   "source": [
    "## train / valid / test lists"
   ]
  },
  {
   "cell_type": "code",
   "execution_count": 8,
   "metadata": {},
   "outputs": [],
   "source": [
    "# train /valid / test splits\n",
    "fn_lists = {}\n",
    "\n",
    "fn_lists['train'] = definition_of_spliting_dir / 'scannetv1_train.txt'\n",
    "fn_lists['valid'] = definition_of_spliting_dir / 'scannetv1_val.txt'\n",
    "fn_lists['test'] = definition_of_spliting_dir / 'scannetv1_test.txt'\n",
    "\n",
    "for datatype in ['train', 'valid', 'test']:\n",
    "    assert fn_lists[datatype].exists(), datatype"
   ]
  },
  {
   "cell_type": "markdown",
   "metadata": {},
   "source": [
    "Load lists"
   ]
  },
  {
   "cell_type": "code",
   "execution_count": 9,
   "metadata": {},
   "outputs": [
    {
     "name": "stdout",
     "output_type": "stream",
     "text": [
      "train counts: 1045\n",
      "valid counts: 156\n",
      "test counts: 312\n"
     ]
    },
    {
     "data": {
      "text/html": [
       "<div>\n",
       "<style scoped>\n",
       "    .dataframe tbody tr th:only-of-type {\n",
       "        vertical-align: middle;\n",
       "    }\n",
       "\n",
       "    .dataframe tbody tr th {\n",
       "        vertical-align: top;\n",
       "    }\n",
       "\n",
       "    .dataframe thead th {\n",
       "        text-align: right;\n",
       "    }\n",
       "</style>\n",
       "<table border=\"1\" class=\"dataframe\">\n",
       "  <thead>\n",
       "    <tr style=\"text-align: right;\">\n",
       "      <th></th>\n",
       "      <th>scene_id</th>\n",
       "      <th>datatype</th>\n",
       "    </tr>\n",
       "  </thead>\n",
       "  <tbody>\n",
       "    <tr>\n",
       "      <th>0</th>\n",
       "      <td>scene0534_00</td>\n",
       "      <td>valid</td>\n",
       "    </tr>\n",
       "    <tr>\n",
       "      <th>1</th>\n",
       "      <td>scene0534_01</td>\n",
       "      <td>valid</td>\n",
       "    </tr>\n",
       "    <tr>\n",
       "      <th>2</th>\n",
       "      <td>scene0319_00</td>\n",
       "      <td>valid</td>\n",
       "    </tr>\n",
       "    <tr>\n",
       "      <th>3</th>\n",
       "      <td>scene0273_00</td>\n",
       "      <td>valid</td>\n",
       "    </tr>\n",
       "    <tr>\n",
       "      <th>4</th>\n",
       "      <td>scene0273_01</td>\n",
       "      <td>valid</td>\n",
       "    </tr>\n",
       "  </tbody>\n",
       "</table>\n",
       "</div>"
      ],
      "text/plain": [
       "       scene_id datatype\n",
       "0  scene0534_00    valid\n",
       "1  scene0534_01    valid\n",
       "2  scene0319_00    valid\n",
       "3  scene0273_00    valid\n",
       "4  scene0273_01    valid"
      ]
     },
     "execution_count": 9,
     "metadata": {},
     "output_type": "execute_result"
    }
   ],
   "source": [
    "dfs = {}\n",
    "for datatype in ['train', 'valid', 'test']:\n",
    "    df = pd.read_csv(fn_lists[datatype], header=None, names=['scene_id'])\n",
    "    df = df.assign(datatype=datatype)\n",
    "    dfs[datatype] = df\n",
    "    \n",
    "    print(f\"{datatype} counts: {len(df)}\")\n",
    "\n",
    "dfs['valid'].head()"
   ]
  },
  {
   "cell_type": "code",
   "execution_count": 10,
   "metadata": {},
   "outputs": [
    {
     "data": {
      "text/html": [
       "<div>\n",
       "<style scoped>\n",
       "    .dataframe tbody tr th:only-of-type {\n",
       "        vertical-align: middle;\n",
       "    }\n",
       "\n",
       "    .dataframe tbody tr th {\n",
       "        vertical-align: top;\n",
       "    }\n",
       "\n",
       "    .dataframe thead th {\n",
       "        text-align: right;\n",
       "    }\n",
       "</style>\n",
       "<table border=\"1\" class=\"dataframe\">\n",
       "  <thead>\n",
       "    <tr style=\"text-align: right;\">\n",
       "      <th></th>\n",
       "      <th>scene_id</th>\n",
       "      <th>datatype</th>\n",
       "    </tr>\n",
       "  </thead>\n",
       "  <tbody>\n",
       "    <tr>\n",
       "      <th>0</th>\n",
       "      <td>scene0191_00</td>\n",
       "      <td>train</td>\n",
       "    </tr>\n",
       "    <tr>\n",
       "      <th>1</th>\n",
       "      <td>scene0191_01</td>\n",
       "      <td>train</td>\n",
       "    </tr>\n",
       "    <tr>\n",
       "      <th>2</th>\n",
       "      <td>scene0191_02</td>\n",
       "      <td>train</td>\n",
       "    </tr>\n",
       "    <tr>\n",
       "      <th>3</th>\n",
       "      <td>scene0119_00</td>\n",
       "      <td>train</td>\n",
       "    </tr>\n",
       "    <tr>\n",
       "      <th>4</th>\n",
       "      <td>scene0230_00</td>\n",
       "      <td>train</td>\n",
       "    </tr>\n",
       "  </tbody>\n",
       "</table>\n",
       "</div>"
      ],
      "text/plain": [
       "       scene_id datatype\n",
       "0  scene0191_00    train\n",
       "1  scene0191_01    train\n",
       "2  scene0191_02    train\n",
       "3  scene0119_00    train\n",
       "4  scene0230_00    train"
      ]
     },
     "execution_count": 10,
     "metadata": {},
     "output_type": "execute_result"
    }
   ],
   "source": [
    "df = pd.concat([dfs['train'], dfs['valid'], dfs['test']])\n",
    "df.head()"
   ]
  },
  {
   "cell_type": "markdown",
   "metadata": {},
   "source": [
    "## Check existence"
   ]
  },
  {
   "cell_type": "code",
   "execution_count": 11,
   "metadata": {},
   "outputs": [
    {
     "name": "stderr",
     "output_type": "stream",
     "text": [
      "Check files exist: 100%|██████████| 1513/1513 [00:00<00:00, 4756.37it/s]\n"
     ]
    }
   ],
   "source": [
    "files_exts = ['_vh_clean_2.ply', '_vh_clean_2.labels.ply']\n",
    "\n",
    "t = tqdm(df.iterrows(), total=len(df), desc='Check files exist')\n",
    "try:\n",
    "    for i, row in t:\n",
    "        for ext in files_exts:\n",
    "            fn = SOURCE_DIR / f\"{row.scene_id}\" / f\"{row.scene_id}{ext}\"\n",
    "            assert fn.exists(), fn\n",
    "finally:\n",
    "    t.clear()\n",
    "    t.close()"
   ]
  },
  {
   "cell_type": "markdown",
   "metadata": {},
   "source": [
    "# Convert one"
   ]
  },
  {
   "cell_type": "code",
   "execution_count": 12,
   "metadata": {},
   "outputs": [],
   "source": [
    "def merge_one_row(row):\n",
    "    \"\"\"\n",
    "    Obtain vertices, faces, colors from first file, but labels from second file.\n",
    "\n",
    "    And save in single joined file with extantion `.merged.ply`\n",
    "    \n",
    "    \"\"\"\n",
    "    \n",
    "    fn = SOURCE_DIR / f\"{row.scene_id}\" / f\"{row.scene_id}{files_exts[0]}\"\n",
    "    fn2 = SOURCE_DIR / f\"{row.scene_id}\" / f\"{row.scene_id}{files_exts[1]}\"\n",
    "    \n",
    "    dir_out = TARGET_DIR / f\"{row.scene_id}\"\n",
    "    fn_out = TARGET_DIR / f\"{row.scene_id}\" / f\"{row.scene_id}.merged.ply\"\n",
    "    \n",
    "    if not dir_out.exists():\n",
    "        os.mkdir(dir_out)\n",
    "    \n",
    "    o = MeshItem.from_file(fn, colors_from_vertices=True)\n",
    "        \n",
    "    o2 = MeshItem.from_file(fn2, label_field='label', labels_from_vertices=True)\n",
    "    labels = o2.labels\n",
    "    \n",
    "    \n",
    "    # trimesh.exchange.ply.export_ply(o.data)\n",
    "    res = export_ply(o.data, vertex_labels=labels.astype(np.uint16), label_type='ushort')\n",
    "    with open(fn_out, \"wb\") as f:\n",
    "        f.write(res)"
   ]
  },
  {
   "cell_type": "code",
   "execution_count": 13,
   "metadata": {},
   "outputs": [],
   "source": [
    "row = df.iloc[0]"
   ]
  },
  {
   "cell_type": "code",
   "execution_count": 14,
   "metadata": {},
   "outputs": [],
   "source": [
    "merge_one_row(row)"
   ]
  },
  {
   "cell_type": "markdown",
   "metadata": {},
   "source": [
    "Test loading of the merged file"
   ]
  },
  {
   "cell_type": "code",
   "execution_count": 15,
   "metadata": {},
   "outputs": [],
   "source": [
    "fn_out = TARGET_DIR / f\"{row.scene_id}\" / f\"{row.scene_id}.merged.ply\""
   ]
  },
  {
   "cell_type": "code",
   "execution_count": 16,
   "metadata": {},
   "outputs": [
    {
     "name": "stdout",
     "output_type": "stream",
     "text": [
      "MeshItem (scene0191_00.merged.ply)\n",
      "vertices:     shape: (145736, 3)     dtype: float64        min:   -0.02024,  max:    7.69273,  mean:    2.06647\n",
      "faces:        shape: (279045, 3)     dtype: int64          min:          0,  max:     145735,  mean: 72771.44137\n",
      "colors:       shape: (145736, 4)     dtype: uint8          min:    6.00000,  max:  255.00000,  mean:  139.41301\n",
      "labels:       shape: (145736,)       dtype: uint16         min:    0.00000,  max:   69.00000,  mean:    3.36522\n",
      "Colors from vertices\n",
      "Labels from vertices\n"
     ]
    },
    {
     "data": {
      "application/vnd.jupyter.widget-view+json": {
       "model_id": "c2e08be266964c58917e2720ebac803c",
       "version_major": 2,
       "version_minor": 0
      },
      "text/plain": [
       "VBox(children=(VBox(children=(Figure(camera=PerspectiveCamera(fov=46.0, position=(0.0, 0.0, 2.0), quaternion=(…"
      ]
     },
     "metadata": {},
     "output_type": "display_data"
    }
   ],
   "source": [
    "o = MeshItem.from_file(fn_out)\n",
    "o.describe()\n",
    "o.show()"
   ]
  },
  {
   "cell_type": "markdown",
   "metadata": {},
   "source": [
    "# Convert all"
   ]
  },
  {
   "cell_type": "code",
   "execution_count": 22,
   "metadata": {
    "deletable": false,
    "editable": false,
    "run_control": {
     "frozen": true
    }
   },
   "outputs": [
    {
     "name": "stderr",
     "output_type": "stream",
     "text": [
      "Convert files: 100%|██████████| 1513/1513 [07:10<00:00,  3.28it/s]\n"
     ]
    }
   ],
   "source": [
    "t = tqdm(df.iterrows(), total=len(df), desc=\"Convert files\")\n",
    "\n",
    "try:\n",
    "    res = Parallel(n_jobs=n_jobs)(delayed(merge_one_row)(row) for i, row in t)\n",
    "    #for i, row in t:\n",
    "    #    merge_one_row(row)\n",
    "finally:\n",
    "    t.clear()\n",
    "    t.close()\n",
    "    sys.stderr.flush()"
   ]
  },
  {
   "cell_type": "code",
   "execution_count": null,
   "metadata": {},
   "outputs": [],
   "source": []
  }
 ],
 "metadata": {
  "kernelspec": {
   "display_name": "Python 3",
   "language": "python",
   "name": "python3"
  },
  "language_info": {
   "codemirror_mode": {
    "name": "ipython",
    "version": 3
   },
   "file_extension": ".py",
   "mimetype": "text/x-python",
   "name": "python",
   "nbconvert_exporter": "python",
   "pygments_lexer": "ipython3",
   "version": "3.6.8"
  },
  "toc": {
   "base_numbering": 1,
   "nav_menu": {},
   "number_sections": true,
   "sideBar": true,
   "skip_h1_title": false,
   "title_cell": "Table of Contents",
   "title_sidebar": "Contents",
   "toc_cell": false,
   "toc_position": {
    "height": "1124px",
    "left": "100px",
    "top": "111.133px",
    "width": "223px"
   },
   "toc_section_display": true,
   "toc_window_display": true
  }
 },
 "nbformat": 4,
 "nbformat_minor": 2
}
