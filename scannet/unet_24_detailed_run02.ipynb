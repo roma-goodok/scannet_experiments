{
 "cells": [
  {
   "cell_type": "markdown",
   "metadata": {
    "toc": true
   },
   "source": [
    "<h1>Table of Contents<span class=\"tocSkip\"></span></h1>\n",
    "<div class=\"toc\"><ul class=\"toc-item\"><li><span><a href=\"#General-Information\" data-toc-modified-id=\"General-Information-1\"><span class=\"toc-item-num\">1&nbsp;&nbsp;</span>General Information</a></span></li><li><span><a href=\"#Imports\" data-toc-modified-id=\"Imports-2\"><span class=\"toc-item-num\">2&nbsp;&nbsp;</span>Imports</a></span></li><li><span><a href=\"#Experiment-environment-/-system-metrics\" data-toc-modified-id=\"Experiment-environment-/-system-metrics-3\"><span class=\"toc-item-num\">3&nbsp;&nbsp;</span>Experiment environment / system metrics</a></span></li><li><span><a href=\"#Notebook-options\" data-toc-modified-id=\"Notebook-options-4\"><span class=\"toc-item-num\">4&nbsp;&nbsp;</span>Notebook options</a></span></li><li><span><a href=\"#Source\" data-toc-modified-id=\"Source-5\"><span class=\"toc-item-num\">5&nbsp;&nbsp;</span>Source</a></span><ul class=\"toc-item\"><li><span><a href=\"#Train-/-Valid-/-Test-lists\" data-toc-modified-id=\"Train-/-Valid-/-Test-lists-5.1\"><span class=\"toc-item-num\">5.1&nbsp;&nbsp;</span>Train / Valid / Test lists</a></span></li></ul></li><li><span><a href=\"#DataSets-config\" data-toc-modified-id=\"DataSets-config-6\"><span class=\"toc-item-num\">6&nbsp;&nbsp;</span>DataSets config</a></span></li><li><span><a href=\"#Datasets\" data-toc-modified-id=\"Datasets-7\"><span class=\"toc-item-num\">7&nbsp;&nbsp;</span>Datasets</a></span></li><li><span><a href=\"#Transforms\" data-toc-modified-id=\"Transforms-8\"><span class=\"toc-item-num\">8&nbsp;&nbsp;</span>Transforms</a></span><ul class=\"toc-item\"><li><span><a href=\"#Define-Label-remaping\" data-toc-modified-id=\"Define-Label-remaping-8.1\"><span class=\"toc-item-num\">8.1&nbsp;&nbsp;</span>Define Label remaping</a></span></li><li><span><a href=\"#Define-transforms\" data-toc-modified-id=\"Define-transforms-8.2\"><span class=\"toc-item-num\">8.2&nbsp;&nbsp;</span>Define transforms</a></span></li><li><span><a href=\"#Apply-transforms\" data-toc-modified-id=\"Apply-transforms-8.3\"><span class=\"toc-item-num\">8.3&nbsp;&nbsp;</span>Apply transforms</a></span></li><li><span><a href=\"#Points-per-voxel-distribution\" data-toc-modified-id=\"Points-per-voxel-distribution-8.4\"><span class=\"toc-item-num\">8.4&nbsp;&nbsp;</span>Points per voxel distribution</a></span></li></ul></li><li><span><a href=\"#DataBunch\" data-toc-modified-id=\"DataBunch-9\"><span class=\"toc-item-num\">9&nbsp;&nbsp;</span>DataBunch</a></span><ul class=\"toc-item\"><li><span><a href=\"#Dataloader-idle-run-speed-measurement\" data-toc-modified-id=\"Dataloader-idle-run-speed-measurement-9.1\"><span class=\"toc-item-num\">9.1&nbsp;&nbsp;</span>Dataloader idle run speed measurement</a></span></li></ul></li><li><span><a href=\"#Model\" data-toc-modified-id=\"Model-10\"><span class=\"toc-item-num\">10&nbsp;&nbsp;</span>Model</a></span><ul class=\"toc-item\"><li><span><a href=\"#learner-creation\" data-toc-modified-id=\"learner-creation-10.1\"><span class=\"toc-item-num\">10.1&nbsp;&nbsp;</span>learner creation</a></span></li><li><span><a href=\"#Learning-Rate-finder\" data-toc-modified-id=\"Learning-Rate-finder-10.2\"><span class=\"toc-item-num\">10.2&nbsp;&nbsp;</span>Learning Rate finder</a></span></li></ul></li><li><span><a href=\"#Train\" data-toc-modified-id=\"Train-11\"><span class=\"toc-item-num\">11&nbsp;&nbsp;</span>Train</a></span></li><li><span><a href=\"#Results\" data-toc-modified-id=\"Results-12\"><span class=\"toc-item-num\">12&nbsp;&nbsp;</span>Results</a></span></li><li><span><a href=\"#Save\" data-toc-modified-id=\"Save-13\"><span class=\"toc-item-num\">13&nbsp;&nbsp;</span>Save</a></span></li><li><span><a href=\"#Validate\" data-toc-modified-id=\"Validate-14\"><span class=\"toc-item-num\">14&nbsp;&nbsp;</span>Validate</a></span><ul class=\"toc-item\"><li><span><a href=\"#Load-weights\" data-toc-modified-id=\"Load-weights-14.1\"><span class=\"toc-item-num\">14.1&nbsp;&nbsp;</span>Load weights</a></span></li><li><span><a href=\"#Validate\" data-toc-modified-id=\"Validate-14.2\"><span class=\"toc-item-num\">14.2&nbsp;&nbsp;</span>Validate</a></span></li></ul></li></ul></div>"
   ]
  },
  {
   "cell_type": "markdown",
   "metadata": {},
   "source": [
    "# General Information\n",
    "\n",
    "This notebook demonstrates how the `fastai_sparse` library can be used in semantic segmentation tasks using the example of the [ScanNet](http://www.scan-net.org/) 3D semantic segmentation solution presented in [ScarseConvNet example](https://github.com/facebookresearch/SparseConvNet/tree/master/examples/ScanNet). \n",
    "\n",
    "\n",
    "<img src=\"http://www.scan-net.org/img/scannet_benchmark.jpg\" width=\"800\" />\n",
    "\n",
    "Initial data are indoor scenes with RGB and 3D-geometric information obtained as a result of three-dimensional scanning (100...500K vertices in ~1500 internal scenes). Format: 3D geometry mesh in format PLY.\n",
    "The purpose - to predict a label of each vertices (20 furniture classes).\n",
    "\n",
    "Evaluation metric: IoU (intersection over union)\n",
    "\n",
    "Firstly, it is necessary to upload and prepare the initial data.  See [examples/scannet/data](https://github.com/goodok/fastai_sparse/tree/master/examples/scannet/data)\n"
   ]
  },
  {
   "cell_type": "code",
   "execution_count": 1,
   "metadata": {},
   "outputs": [],
   "source": [
    "import os\n",
    "os.environ['CUDA_VISIBLE_DEVICES'] = '1'"
   ]
  },
  {
   "cell_type": "markdown",
   "metadata": {},
   "source": [
    "# Imports"
   ]
  },
  {
   "cell_type": "code",
   "execution_count": 2,
   "metadata": {},
   "outputs": [],
   "source": [
    "import os, sys\n",
    "import time\n",
    "import numpy as np\n",
    "import pandas as pd\n",
    "import glob\n",
    "from os.path import join, exists, basename, splitext\n",
    "from pathlib import Path\n",
    "from matplotlib import pyplot as plt\n",
    "from matplotlib import cm\n",
    "import shutil\n",
    "from functools import partial\n",
    "from tqdm import tqdm\n",
    "from joblib import Parallel, delayed, cpu_count\n",
    "from IPython.display import display, HTML, FileLink\n",
    "\n",
    "import torch\n",
    "import torch.nn as nn\n",
    "import torch.optim as optim\n",
    "\n",
    "import sparseconvnet as scn\n",
    "\n",
    "from fastai_sparse import utils, visualize\n",
    "from fastai_sparse.utils import log\n",
    "from fastai_sparse.data import DataSourceConfig, MeshesDataset, SparseDataBunch\n",
    "from fastai_sparse.learner import SparseModelConfig, Learner\n",
    "from fastai_sparse.callbacks import TimeLogger, SaveModelCallback, CSVLogger\n",
    "\n",
    "# autoreload python modules on the fly when its source is changed\n",
    "%load_ext autoreload\n",
    "%autoreload 2"
   ]
  },
  {
   "cell_type": "markdown",
   "metadata": {},
   "source": [
    "Importing modules specific to this task (standard 3D semantic markers, ScanNet)"
   ]
  },
  {
   "cell_type": "code",
   "execution_count": 3,
   "metadata": {},
   "outputs": [],
   "source": [
    "from fastai_sparse.metrics import IouMean\n",
    "from metrics import IouMeanFiltred\n",
    "from callbacks import CSVLoggerIouByClass\n",
    "\n",
    "from data import merge_fn\n",
    "import transforms as T"
   ]
  },
  {
   "cell_type": "markdown",
   "metadata": {},
   "source": [
    "# Experiment environment / system metrics"
   ]
  },
  {
   "cell_type": "code",
   "execution_count": 4,
   "metadata": {},
   "outputs": [],
   "source": [
    "experiment_name = 'unet_24_detailed-Copy1'"
   ]
  },
  {
   "cell_type": "code",
   "execution_count": 5,
   "metadata": {},
   "outputs": [
    {
     "name": "stdout",
     "output_type": "stream",
     "text": [
      "virtualenv:     (aseg_torch1) \n",
      "python:         3.6.8\n",
      "nvidia driver:  b'384.130'\n",
      "nvidia cuda:    9.0, V9.0.176\n",
      "cudnn:          7.1.4\n",
      "torch:          1.0.0\n",
      "pandas:         0.24.2\n",
      "fastai:         1.0.48\n",
      "fastai_sparse:  0.0.2.dev0\n"
     ]
    }
   ],
   "source": [
    "utils.watermark(pandas=True)"
   ]
  },
  {
   "cell_type": "code",
   "execution_count": 6,
   "metadata": {},
   "outputs": [
    {
     "name": "stdout",
     "output_type": "stream",
     "text": [
      "\u001b[33ma882e0a\u001b[m docs: Update README.md, INSTALL.md\r\n",
      "\u001b[33m88cd162\u001b[m Update scannet example\r\n",
      "\u001b[33md33388f\u001b[m Update README.md\r\n"
     ]
    }
   ],
   "source": [
    "!git log1 -n3"
   ]
  },
  {
   "cell_type": "code",
   "execution_count": 7,
   "metadata": {},
   "outputs": [],
   "source": [
    "# TODO: write to file versions, and so on\n",
    "fn_commit = Path('results', experiment_name, 'commit.txt')\n",
    "fn_commit.parent.mkdir(parents=True, exist_ok=True)\n",
    "!git log -n1 --stat > {str(fn_commit)}"
   ]
  },
  {
   "cell_type": "code",
   "execution_count": 8,
   "metadata": {},
   "outputs": [
    {
     "name": "stdout",
     "output_type": "stream",
     "text": [
      "Sun Apr  7 21:46:25 2019       \r\n",
      "+-----------------------------------------------------------------------------+\r\n",
      "| NVIDIA-SMI 384.130                Driver Version: 384.130                   |\r\n",
      "|-------------------------------+----------------------+----------------------+\r\n",
      "| GPU  Name        Persistence-M| Bus-Id        Disp.A | Volatile Uncorr. ECC |\r\n",
      "| Fan  Temp  Perf  Pwr:Usage/Cap|         Memory-Usage | GPU-Util  Compute M. |\r\n",
      "|===============================+======================+======================|\r\n",
      "|   0  GeForce GTX 108...  Off  | 00000000:28:00.0  On |                  N/A |\r\n",
      "| 29%   60C    P5    22W / 250W |   1523MiB / 11163MiB |      3%      Default |\r\n",
      "+-------------------------------+----------------------+----------------------+\r\n",
      "|   1  GeForce GTX 108...  Off  | 00000000:29:00.0 Off |                  N/A |\r\n",
      "|  0%   53C    P8    18W / 250W |     11MiB / 11172MiB |      0%      Default |\r\n",
      "+-------------------------------+----------------------+----------------------+\r\n",
      "                                                                               \r\n",
      "+-----------------------------------------------------------------------------+\r\n",
      "| Processes:                                                       GPU Memory |\r\n",
      "|  GPU       PID   Type   Process name                             Usage      |\r\n",
      "|=============================================================================|\r\n",
      "|    0      1451      G   /usr/lib/xorg/Xorg                           635MiB |\r\n",
      "|    0      2786      G   compiz                                       341MiB |\r\n",
      "|    0      4702      G   ...-token=3FD6D3358D3CF94684AA763DB434D4CE   165MiB |\r\n",
      "|    0      5320      G   ...uest-channel-token=16012192370082510876   100MiB |\r\n",
      "|    0     11771      G   /usr/lib/firefox/firefox                       6MiB |\r\n",
      "|    0     12023      G   /usr/lib/firefox/firefox                     270MiB |\r\n",
      "+-----------------------------------------------------------------------------+\r\n"
     ]
    }
   ],
   "source": [
    "!nvidia-smi"
   ]
  },
  {
   "cell_type": "markdown",
   "metadata": {},
   "source": [
    "# Notebook options"
   ]
  },
  {
   "cell_type": "code",
   "execution_count": 9,
   "metadata": {},
   "outputs": [
    {
     "data": {
      "text/html": [
       "<style>.container { width:70% !important; }</style>"
      ],
      "text/plain": [
       "<IPython.core.display.HTML object>"
      ]
     },
     "metadata": {},
     "output_type": "display_data"
    }
   ],
   "source": [
    "utils.wide_notebook()\n",
    "# uncomment this lines if you want switch off interactive and save visaulisation as screenshoots:\n",
    "# For rendering run command in terminal:    `chromium-browser --remote-debugging-port=9222`\n",
    "if  False:\n",
    "    visualize.options.interactive = False\n",
    "    visualize.options.save_images = True\n",
    "    visualize.options.verbose = True\n",
    "    visualize.options.filename_pattern_image = Path('images', experiment_name, 'fig_{fig_number}')"
   ]
  },
  {
   "cell_type": "markdown",
   "metadata": {},
   "source": [
    "# Source"
   ]
  },
  {
   "cell_type": "code",
   "execution_count": 10,
   "metadata": {},
   "outputs": [
    {
     "data": {
      "text/plain": [
       "['scene0000_01.merged.ply']"
      ]
     },
     "execution_count": 10,
     "metadata": {},
     "output_type": "execute_result"
    }
   ],
   "source": [
    "SOURCE_DIR = Path('data', 'scannet_merged_ply')\n",
    "assert SOURCE_DIR.exists(), \"Run prepare_data.ipynb\"\n",
    "\n",
    "definition_of_spliting_dir = Path('data', 'ScanNet_Tasks_Benchmark')\n",
    "assert definition_of_spliting_dir.exists()\n",
    "\n",
    "\n",
    "os.listdir(SOURCE_DIR / 'scene0000_01')"
   ]
  },
  {
   "cell_type": "markdown",
   "metadata": {},
   "source": [
    "## Train / Valid / Test lists\n",
    "\n",
    "MeshesDataset uses the pandas DataFrame as a datasource to determine the splitting into testing/valid as well as files locations."
   ]
  },
  {
   "cell_type": "code",
   "execution_count": 11,
   "metadata": {},
   "outputs": [],
   "source": [
    "\n",
    "def find_files(path, ext='merged.ply'):\n",
    "    pattern = str(path / '*' / ('*' + ext))\n",
    "    fnames = glob.glob(pattern)\n",
    "    return fnames\n",
    "\n",
    "def get_df_list(verbose=0):\n",
    "    # train /valid / test splits\n",
    "    fn_lists = {}\n",
    "\n",
    "    fn_lists['train'] = definition_of_spliting_dir / 'scannetv1_train.txt'\n",
    "    fn_lists['valid'] = definition_of_spliting_dir / 'scannetv1_val.txt'\n",
    "    fn_lists['test'] = definition_of_spliting_dir / 'scannetv1_test.txt'\n",
    "\n",
    "    for datatype in ['train', 'valid', 'test']:\n",
    "        assert fn_lists[datatype].exists(), datatype\n",
    "\n",
    "    dfs = {}\n",
    "    total = 0\n",
    "    for datatype in ['train', 'valid', 'test']:\n",
    "        df = pd.read_csv(fn_lists[datatype], header=None, names=['example_id'])\n",
    "        df = df.assign(datatype=datatype)\n",
    "        df = df.assign(subdir=df.example_id)\n",
    "        df = df.sort_values('example_id')\n",
    "        dfs[datatype] = df\n",
    "\n",
    "        if verbose:\n",
    "            print(f\"{datatype:5} counts: {len(df):>4}\")\n",
    "        \n",
    "        total += len(df)\n",
    "    if verbose:\n",
    "        print(f\"total:     {total}\")\n",
    "    return dfs"
   ]
  },
  {
   "cell_type": "code",
   "execution_count": 12,
   "metadata": {},
   "outputs": [
    {
     "name": "stdout",
     "output_type": "stream",
     "text": [
      "train counts: 1045\n",
      "valid counts:  156\n",
      "test  counts:  312\n",
      "total:     1513\n"
     ]
    }
   ],
   "source": [
    "df_list = get_df_list(verbose=1)"
   ]
  },
  {
   "cell_type": "code",
   "execution_count": 13,
   "metadata": {},
   "outputs": [
    {
     "data": {
      "text/html": [
       "<div>\n",
       "<style scoped>\n",
       "    .dataframe tbody tr th:only-of-type {\n",
       "        vertical-align: middle;\n",
       "    }\n",
       "\n",
       "    .dataframe tbody tr th {\n",
       "        vertical-align: top;\n",
       "    }\n",
       "\n",
       "    .dataframe thead th {\n",
       "        text-align: right;\n",
       "    }\n",
       "</style>\n",
       "<table border=\"1\" class=\"dataframe\">\n",
       "  <thead>\n",
       "    <tr style=\"text-align: right;\">\n",
       "      <th></th>\n",
       "      <th>example_id</th>\n",
       "      <th>datatype</th>\n",
       "      <th>subdir</th>\n",
       "    </tr>\n",
       "  </thead>\n",
       "  <tbody>\n",
       "    <tr>\n",
       "      <th>7</th>\n",
       "      <td>scene0003_00</td>\n",
       "      <td>valid</td>\n",
       "      <td>scene0003_00</td>\n",
       "    </tr>\n",
       "    <tr>\n",
       "      <th>8</th>\n",
       "      <td>scene0003_01</td>\n",
       "      <td>valid</td>\n",
       "      <td>scene0003_01</td>\n",
       "    </tr>\n",
       "    <tr>\n",
       "      <th>9</th>\n",
       "      <td>scene0003_02</td>\n",
       "      <td>valid</td>\n",
       "      <td>scene0003_02</td>\n",
       "    </tr>\n",
       "    <tr>\n",
       "      <th>111</th>\n",
       "      <td>scene0033_00</td>\n",
       "      <td>valid</td>\n",
       "      <td>scene0033_00</td>\n",
       "    </tr>\n",
       "    <tr>\n",
       "      <th>130</th>\n",
       "      <td>scene0034_00</td>\n",
       "      <td>valid</td>\n",
       "      <td>scene0034_00</td>\n",
       "    </tr>\n",
       "    <tr>\n",
       "      <th>131</th>\n",
       "      <td>scene0034_01</td>\n",
       "      <td>valid</td>\n",
       "      <td>scene0034_01</td>\n",
       "    </tr>\n",
       "    <tr>\n",
       "      <th>132</th>\n",
       "      <td>scene0034_02</td>\n",
       "      <td>valid</td>\n",
       "      <td>scene0034_02</td>\n",
       "    </tr>\n",
       "    <tr>\n",
       "      <th>45</th>\n",
       "      <td>scene0054_00</td>\n",
       "      <td>valid</td>\n",
       "      <td>scene0054_00</td>\n",
       "    </tr>\n",
       "    <tr>\n",
       "      <th>101</th>\n",
       "      <td>scene0056_00</td>\n",
       "      <td>valid</td>\n",
       "      <td>scene0056_00</td>\n",
       "    </tr>\n",
       "    <tr>\n",
       "      <th>102</th>\n",
       "      <td>scene0056_01</td>\n",
       "      <td>valid</td>\n",
       "      <td>scene0056_01</td>\n",
       "    </tr>\n",
       "  </tbody>\n",
       "</table>\n",
       "</div>"
      ],
      "text/plain": [
       "       example_id datatype        subdir\n",
       "7    scene0003_00    valid  scene0003_00\n",
       "8    scene0003_01    valid  scene0003_01\n",
       "9    scene0003_02    valid  scene0003_02\n",
       "111  scene0033_00    valid  scene0033_00\n",
       "130  scene0034_00    valid  scene0034_00\n",
       "131  scene0034_01    valid  scene0034_01\n",
       "132  scene0034_02    valid  scene0034_02\n",
       "45   scene0054_00    valid  scene0054_00\n",
       "101  scene0056_00    valid  scene0056_00\n",
       "102  scene0056_01    valid  scene0056_01"
      ]
     },
     "execution_count": 13,
     "metadata": {},
     "output_type": "execute_result"
    }
   ],
   "source": [
    "df_list['valid'].head(10)"
   ]
  },
  {
   "cell_type": "markdown",
   "metadata": {},
   "source": [
    "# DataSets config\n",
    "You can create MeshDataset using the configuration."
   ]
  },
  {
   "cell_type": "code",
   "execution_count": 14,
   "metadata": {},
   "outputs": [
    {
     "data": {
      "text/plain": [
       "DataSourceConfig;\n",
       "   root_dir: data/scannet_merged_ply\n",
       "   resolution: 50\n",
       "   spatial_size: 408\n",
       "   batch_size: 32\n",
       "   num_workers: 8\n",
       "   file_ext: .merged.ply\n",
       "   ply_label_name: label\n",
       "   num_classes: 10\n",
       "   num_classes_by_category: [10]\n",
       "   class_offsets: [0]\n",
       "   init_numpy_random_seed: True\n",
       " Items count: 1045"
      ]
     },
     "execution_count": 14,
     "metadata": {},
     "output_type": "execute_result"
    }
   ],
   "source": [
    "train_source_config = DataSourceConfig(root_dir=SOURCE_DIR,\n",
    "                                       df_item_list=df_list['train'],\n",
    "                                       batch_size=32,\n",
    "                                       num_workers=8,\n",
    "                                       ply_label_name='label',\n",
    "                                       file_ext='.merged.ply',\n",
    "                                      )\n",
    "train_source_config"
   ]
  },
  {
   "cell_type": "code",
   "execution_count": 15,
   "metadata": {},
   "outputs": [
    {
     "data": {
      "text/plain": [
       "DataSourceConfig;\n",
       "   root_dir: data/scannet_merged_ply\n",
       "   resolution: 50\n",
       "   spatial_size: 408\n",
       "   batch_size: 2\n",
       "   num_workers: 2\n",
       "   file_ext: .merged.ply\n",
       "   ply_label_name: label\n",
       "   num_classes: 10\n",
       "   num_classes_by_category: [10]\n",
       "   class_offsets: [0]\n",
       "   init_numpy_random_seed: True\n",
       " Items count: 156"
      ]
     },
     "execution_count": 15,
     "metadata": {},
     "output_type": "execute_result"
    }
   ],
   "source": [
    "valid_source_config = DataSourceConfig(root_dir=SOURCE_DIR,\n",
    "                                       df_item_list=df_list['valid'],\n",
    "                                       batch_size=2,\n",
    "                                       num_workers=2,\n",
    "                                       ply_label_name='label',\n",
    "                                       file_ext='.merged.ply',\n",
    "                                       #init_numpy_random_seed=False,\n",
    "                                      )\n",
    "valid_source_config"
   ]
  },
  {
   "cell_type": "markdown",
   "metadata": {},
   "source": [
    "# Datasets"
   ]
  },
  {
   "cell_type": "code",
   "execution_count": 16,
   "metadata": {},
   "outputs": [
    {
     "name": "stderr",
     "output_type": "stream",
     "text": [
      "Load file names: 100%|██████████| 1045/1045 [00:00<00:00, 6899.47it/s]\n",
      "Load file names: 100%|██████████| 156/156 [00:00<00:00, 5849.85it/s]\n",
      "Check files exist: 100%|██████████| 1045/1045 [00:00<00:00, 149230.45it/s]\n",
      "Check files exist: 100%|██████████| 156/156 [00:00<00:00, 54155.89it/s]\n"
     ]
    }
   ],
   "source": [
    "train_items = MeshesDataset.from_source_config(train_source_config)\n",
    "valid_items = MeshesDataset.from_source_config(valid_source_config)\n",
    "\n",
    "train_items.check()\n",
    "valid_items.check()"
   ]
  },
  {
   "cell_type": "markdown",
   "metadata": {},
   "source": [
    "Let's see what we've done with one example. \n",
    "\n",
    "In interactive mode, you can switch the color parameters (labels, rgb) to display labels or scan colors."
   ]
  },
  {
   "cell_type": "code",
   "execution_count": 17,
   "metadata": {},
   "outputs": [
    {
     "name": "stdout",
     "output_type": "stream",
     "text": [
      "MeshItem (scene0000_00.merged.ply)\n",
      "vertices:                shape: (81369, 3)            dtype: float64        min:   -0.01657,  max:    8.74040,  mean:    3.19051\n",
      "faces:                   shape: (153587, 3)           dtype: int64          min:          0,  max:      81368,  mean: 40549.68796\n",
      "colors:                  shape: (81369, 4)            dtype: uint8          min:    1.00000,  max:  255.00000,  mean:  145.80430\n",
      "labels:                  shape: (81369,)              dtype: uint16         min:    0.00000,  max:  230.00000,  mean:   12.97057\n",
      "Colors from vertices\n",
      "Labels from vertices\n"
     ]
    },
    {
     "data": {
      "application/vnd.jupyter.widget-view+json": {
       "model_id": "cefb945551c944d6b6f8260e0f0a779c",
       "version_major": 2,
       "version_minor": 0
      },
      "text/plain": [
       "VBox(children=(VBox(children=(Figure(camera=PerspectiveCamera(fov=46.0, position=(0.0, 0.0, 2.0), quaternion=(…"
      ]
     },
     "metadata": {},
     "output_type": "display_data"
    }
   ],
   "source": [
    "o = train_items[0]\n",
    "o.describe()\n",
    "o.show()"
   ]
  },
  {
   "cell_type": "code",
   "execution_count": 18,
   "metadata": {},
   "outputs": [
    {
     "data": {
      "text/plain": [
       "MeshesDataset (1045 items)\n",
       "(scene0000_00.merged.ply, vertices:81369),(scene0000_01.merged.ply, vertices:80583),(scene0000_02.merged.ply, vertices:86001),(scene0001_00.merged.ply, vertices:125526),(scene0001_01.merged.ply, vertices:124429)\n",
       "Path: data/scannet_merged_ply"
      ]
     },
     "execution_count": 18,
     "metadata": {},
     "output_type": "execute_result"
    }
   ],
   "source": [
    "# short representation\n",
    "train_items"
   ]
  },
  {
   "cell_type": "markdown",
   "metadata": {},
   "source": [
    "# Transforms"
   ]
  },
  {
   "cell_type": "markdown",
   "metadata": {},
   "source": [
    "## Define Label remaping"
   ]
  },
  {
   "cell_type": "code",
   "execution_count": 19,
   "metadata": {},
   "outputs": [
    {
     "data": {
      "text/html": [
       "<div>\n",
       "<style scoped>\n",
       "    .dataframe tbody tr th:only-of-type {\n",
       "        vertical-align: middle;\n",
       "    }\n",
       "\n",
       "    .dataframe tbody tr th {\n",
       "        vertical-align: top;\n",
       "    }\n",
       "\n",
       "    .dataframe thead th {\n",
       "        text-align: right;\n",
       "    }\n",
       "</style>\n",
       "<table border=\"1\" class=\"dataframe\">\n",
       "  <thead>\n",
       "    <tr style=\"text-align: right;\">\n",
       "      <th></th>\n",
       "      <th>0</th>\n",
       "      <th>1</th>\n",
       "      <th>2</th>\n",
       "      <th>3</th>\n",
       "      <th>4</th>\n",
       "      <th>5</th>\n",
       "      <th>6</th>\n",
       "      <th>7</th>\n",
       "      <th>8</th>\n",
       "      <th>9</th>\n",
       "      <th>10</th>\n",
       "      <th>11</th>\n",
       "      <th>12</th>\n",
       "      <th>13</th>\n",
       "      <th>14</th>\n",
       "      <th>15</th>\n",
       "      <th>16</th>\n",
       "      <th>17</th>\n",
       "      <th>18</th>\n",
       "      <th>19</th>\n",
       "    </tr>\n",
       "  </thead>\n",
       "  <tbody>\n",
       "    <tr>\n",
       "      <th>class_id</th>\n",
       "      <td>1</td>\n",
       "      <td>2</td>\n",
       "      <td>3</td>\n",
       "      <td>4</td>\n",
       "      <td>5</td>\n",
       "      <td>6</td>\n",
       "      <td>7</td>\n",
       "      <td>8</td>\n",
       "      <td>9</td>\n",
       "      <td>10</td>\n",
       "      <td>11</td>\n",
       "      <td>12</td>\n",
       "      <td>14</td>\n",
       "      <td>16</td>\n",
       "      <td>24</td>\n",
       "      <td>28</td>\n",
       "      <td>33</td>\n",
       "      <td>34</td>\n",
       "      <td>36</td>\n",
       "      <td>39</td>\n",
       "    </tr>\n",
       "    <tr>\n",
       "      <th>name</th>\n",
       "      <td>wall</td>\n",
       "      <td>floor</td>\n",
       "      <td>cabinet</td>\n",
       "      <td>bed</td>\n",
       "      <td>chair</td>\n",
       "      <td>sofa</td>\n",
       "      <td>table</td>\n",
       "      <td>door</td>\n",
       "      <td>window</td>\n",
       "      <td>bookshelf</td>\n",
       "      <td>picture</td>\n",
       "      <td>counter</td>\n",
       "      <td>desk</td>\n",
       "      <td>curtain</td>\n",
       "      <td>refridgerator</td>\n",
       "      <td>shower</td>\n",
       "      <td>toilet</td>\n",
       "      <td>sink</td>\n",
       "      <td>bathtub</td>\n",
       "      <td>otherfurniture</td>\n",
       "    </tr>\n",
       "  </tbody>\n",
       "</table>\n",
       "</div>"
      ],
      "text/plain": [
       "            0      1        2    3      4     5      6     7       8   \\\n",
       "class_id     1      2        3    4      5     6      7     8       9   \n",
       "name      wall  floor  cabinet  bed  chair  sofa  table  door  window   \n",
       "\n",
       "                 9        10       11    12       13             14      15  \\\n",
       "class_id         10       11       12    14       16             24      28   \n",
       "name      bookshelf  picture  counter  desk  curtain  refridgerator  shower   \n",
       "\n",
       "              16    17       18              19  \n",
       "class_id      33    34       36              39  \n",
       "name      toilet  sink  bathtub  otherfurniture  "
      ]
     },
     "execution_count": 19,
     "metadata": {},
     "output_type": "execute_result"
    }
   ],
   "source": [
    "df_classes = pd.read_csv(definition_of_spliting_dir / 'classes_SemVoxLabel-nyu40id.txt', header=None, names=['class_id', 'name'], delim_whitespace=True)\n",
    "df_classes.T"
   ]
  },
  {
   "cell_type": "code",
   "execution_count": 20,
   "metadata": {},
   "outputs": [],
   "source": [
    "# Manual definition\n",
    "assert (np.array([1,2,3,4,5,6,7,8,9,10,11,12,14,16,24,28,33,34,36,39]) == df_classes.class_id).all()"
   ]
  },
  {
   "cell_type": "code",
   "execution_count": 21,
   "metadata": {},
   "outputs": [],
   "source": [
    "# Map relevant classes to {0,1,...,19}, and ignored classes to -100\n",
    "remapper = np.ones(3000, dtype=np.int32) * (-100)\n",
    "for i, x in enumerate([1,2,3,4,5,6,7,8,9,10,11,12,14,16,24,28,33,34,36,39]):\n",
    "    remapper[x] = i"
   ]
  },
  {
   "cell_type": "markdown",
   "metadata": {},
   "source": [
    "## Define transforms\n",
    "\n",
    "In order to reproduce the [example of SparseConvNet](https://github.com/facebookresearch/SparseConvNet/tree/master/examples/ScanNet), the same transformations have been redone, but in the manner of fast.ai transformations.\n",
    "\n",
    "The following cells define the transformations: preprocessing (PRE_TFMS); augmentation (AUGS_); and transformation to convert the points cloud to a sparse representation (SPARSE_TFMS). Sparse  representation is the input format for the SparseConvNet model and contains a list of voxels and their features"
   ]
  },
  {
   "cell_type": "code",
   "execution_count": 22,
   "metadata": {},
   "outputs": [],
   "source": [
    "PRE_TFMS = [T.to_points_cloud(method='vertices', normals = False), \n",
    "            T.remap_labels(remapper=remapper, inplace=False),\n",
    "            T.colors_normalize(),\n",
    "            T.normalize_spatial(),\n",
    "           ]\n",
    "\n",
    "_scale = 20\n",
    "\n",
    "AUGS_TRAIN = [\n",
    "    T.noise_affine(amplitude=0.1),\n",
    "    T.flip_x(p=0.5),\n",
    "    T.scale(scale=_scale),\n",
    "    T.rotate_XY(),\n",
    "    \n",
    "    T.elastic(gran=6 * _scale // 50, mag=40 * _scale / 50),\n",
    "    T.elastic(gran=20 * _scale // 50, mag=160 * _scale / 50),\n",
    "    \n",
    "    T.specific_translate(full_scale=4096),\n",
    "    T.crop_points(low=0, high=4096),\n",
    "    T.colors_noise(amplitude=0.1),\n",
    "]\n",
    "\n",
    "AUGS_VALID = [\n",
    "    T.noise_affine(amplitude=0.1),\n",
    "    T.flip_x(p=0.5),\n",
    "    T.scale(scale=_scale),\n",
    "    T.rotate_XY(),\n",
    "\n",
    "    T.translate(offset=4096 / 2),\n",
    "    T.rand_translate(offset=(-2, 2, 3)),  # low, high, dimention\n",
    "    \n",
    "    T.specific_translate(full_scale=4096),\n",
    "    T.crop_points(low=0, high=4096),\n",
    "    T.colors_noise(amplitude=0.1),\n",
    "        \n",
    "    ]\n",
    "\n",
    "SPARSE_TFMS = [\n",
    "    T.merge_features(ones=False, colors=True, normals=False),\n",
    "    T.to_sparse_voxels(),\n",
    "]\n",
    "\n",
    "# train/valid transforms\n",
    "tfms = (\n",
    "    PRE_TFMS + AUGS_TRAIN + SPARSE_TFMS,\n",
    "    PRE_TFMS + AUGS_VALID + SPARSE_TFMS,\n",
    ")"
   ]
  },
  {
   "cell_type": "markdown",
   "metadata": {},
   "source": [
    "## Apply transforms\n",
    "Now we will apply the transformation to the data sets."
   ]
  },
  {
   "cell_type": "code",
   "execution_count": 23,
   "metadata": {},
   "outputs": [],
   "source": [
    "train_items.transform(tfms[0])\n",
    "pass\n",
    "\n",
    "valid_items.transform(tfms[1])\n",
    "pass"
   ]
  },
  {
   "cell_type": "markdown",
   "metadata": {},
   "source": [
    "Let's see what we got in results of train and valid tranformations for the first example:"
   ]
  },
  {
   "cell_type": "markdown",
   "metadata": {},
   "source": [
    "##### Train"
   ]
  },
  {
   "cell_type": "code",
   "execution_count": 24,
   "metadata": {},
   "outputs": [
    {
     "name": "stdout",
     "output_type": "stream",
     "text": [
      "id: scene0000_00\n",
      "coords                   shape: (81369, 3)            dtype: int64          min:       2312,  max:       3490,  mean: 2892.22320\n",
      "features                 shape: (81369, 3)            dtype: float32        min:   -1.44116,  max:    0.94987,  mean:   -0.33938\n",
      "x                        shape: (81369,)              dtype: int64          min:       2312,  max:       2435,  mean: 2370.12608\n",
      "y                        shape: (81369,)              dtype: int64          min:       3277,  max:       3490,  mean: 3392.50056\n",
      "z                        shape: (81369,)              dtype: int64          min:       2875,  max:       2979,  mean: 2914.04296\n",
      "labels                   shape: (81369,)              dtype: int64          min:       -100,  max:         17,  mean:  -48.51506\n",
      "voxels: 50029\n",
      "points / voxels: 1.6264366667332948\n"
     ]
    },
    {
     "data": {
      "application/vnd.jupyter.widget-view+json": {
       "model_id": "4b4999b9d89c449b904a833f8ddce79b",
       "version_major": 2,
       "version_minor": 0
      },
      "text/plain": [
       "VBox(children=(Figure(camera=PerspectiveCamera(fov=46.0, position=(0.0, 0.0, 2.0), quaternion=(0.0, 0.0, 0.0, …"
      ]
     },
     "metadata": {},
     "output_type": "display_data"
    }
   ],
   "source": [
    "o = train_items[0]\n",
    "o.describe()\n",
    "o.show(colors=o.data['features'])"
   ]
  },
  {
   "cell_type": "markdown",
   "metadata": {},
   "source": [
    "##### Valid"
   ]
  },
  {
   "cell_type": "code",
   "execution_count": 25,
   "metadata": {},
   "outputs": [
    {
     "name": "stdout",
     "output_type": "stream",
     "text": [
      "id: scene0003_00\n",
      "coords                   shape: (82063, 3)            dtype: int64          min:        561,  max:       1827,  mean: 1082.78298\n",
      "features                 shape: (82063, 3)            dtype: float32        min:   -0.94090,  max:    1.17325,  mean:    0.26294\n",
      "x                        shape: (82063,)              dtype: int64          min:        873,  max:        945,  mean:  904.19940\n",
      "y                        shape: (82063,)              dtype: int64          min:       1718,  max:       1827,  mean: 1756.56565\n",
      "z                        shape: (82063,)              dtype: int64          min:        561,  max:        630,  mean:  587.58391\n",
      "labels                   shape: (82063,)              dtype: int64          min:       -100,  max:         12,  mean:  -32.75373\n",
      "voxels: 14523\n",
      "points / voxels: 5.650554293190112\n"
     ]
    },
    {
     "data": {
      "application/vnd.jupyter.widget-view+json": {
       "model_id": "7826f901ed4f4dba9248492f5393a803",
       "version_major": 2,
       "version_minor": 0
      },
      "text/plain": [
       "VBox(children=(Figure(camera=PerspectiveCamera(fov=46.0, position=(0.0, 0.0, 2.0), quaternion=(0.0, 0.0, 0.0, …"
      ]
     },
     "metadata": {},
     "output_type": "display_data"
    }
   ],
   "source": [
    "o = valid_items[0]\n",
    "o.describe()\n",
    "o.show(colors=o.data['features'])"
   ]
  },
  {
   "cell_type": "markdown",
   "metadata": {},
   "source": [
    "## Points per voxel distribution "
   ]
  },
  {
   "cell_type": "code",
   "execution_count": 26,
   "metadata": {
    "deletable": false,
    "editable": false,
    "run_control": {
     "frozen": true
    }
   },
   "outputs": [
    {
     "name": "stderr",
     "output_type": "stream",
     "text": [
      "100%|██████████| 156/156 [00:13<00:00, 10.97it/s]\n",
      "100%|██████████| 1045/1045 [05:00<00:00,  4.30it/s]\n"
     ]
    }
   ],
   "source": [
    "# iterations are in one thread\n",
    "ppv_valid = []\n",
    "for o in tqdm(valid_items, total=len(valid_items)):\n",
    "    n_voxels = o.num_voxels()\n",
    "    n_points = len(o.data['coords'])\n",
    "    ppv_valid.append(n_points / n_voxels)\n",
    "\n",
    "ppv_train = []\n",
    "for o in tqdm(train_items, total=len(train_items)):\n",
    "    n_voxels = o.num_voxels()\n",
    "    n_points = len(o.data['coords'])\n",
    "    ppv_train.append(n_points / n_voxels)\n"
   ]
  },
  {
   "cell_type": "code",
   "execution_count": 27,
   "metadata": {
    "deletable": false,
    "editable": false,
    "run_control": {
     "frozen": true
    }
   },
   "outputs": [
    {
     "data": {
      "image/png": "[encoded data removed]",
      "text/plain": [
       "<Figure size 432x288 with 1 Axes>"
      ]
     },
     "metadata": {
      "needs_background": "light"
     },
     "output_type": "display_data"
    }
   ],
   "source": [
    "fig, ax = plt.subplots()\n",
    "ax.hist(ppv_train, bins=100, label='train')\n",
    "ax.hist(ppv_valid, bins=100, label='valid')\n",
    "ax.legend()\n",
    "ax.set_title('Points per voxel distribution')\n",
    "ax.set_xlabel('Points per voxel')\n",
    "ax.set_ylabel('Number of examples')\n",
    "pass"
   ]
  },
  {
   "cell_type": "markdown",
   "metadata": {},
   "source": [
    "# DataBunch"
   ]
  },
  {
   "cell_type": "markdown",
   "metadata": {},
   "source": [
    "In fast.ai the data is represented DataNunch which contains train, valid and optionally test data loaders."
   ]
  },
  {
   "cell_type": "code",
   "execution_count": 26,
   "metadata": {},
   "outputs": [],
   "source": [
    "data = SparseDataBunch.create(train_ds=train_items,\n",
    "                              valid_ds=valid_items,\n",
    "                              collate_fn=merge_fn)"
   ]
  },
  {
   "cell_type": "code",
   "execution_count": 27,
   "metadata": {},
   "outputs": [
    {
     "name": "stdout",
     "output_type": "stream",
     "text": [
      "Train:  1045, shuffle:  True, batch_size: 32, num_workers:  8, num_batches: 32, drop_last: True\n",
      "Valid:   156, shuffle: False, batch_size:  2, num_workers:  2, num_batches: 78, drop_last: False\n"
     ]
    }
   ],
   "source": [
    "data.describe()"
   ]
  },
  {
   "cell_type": "markdown",
   "metadata": {},
   "source": [
    "## Dataloader idle run speed measurement"
   ]
  },
  {
   "cell_type": "code",
   "execution_count": 28,
   "metadata": {
    "deletable": false,
    "editable": false,
    "run_control": {
     "frozen": true
    }
   },
   "outputs": [
    {
     "name": "stdout",
     "output_type": "stream",
     "text": [
      "cpu_count: 16\n",
      "Model name:            AMD Ryzen 7 1700 Eight-Core Processor\r\n"
     ]
    }
   ],
   "source": [
    "print(\"cpu_count:\", cpu_count())\n",
    "!lscpu | grep \"Model\""
   ]
  },
  {
   "cell_type": "code",
   "execution_count": 29,
   "metadata": {
    "deletable": false,
    "editable": false,
    "run_control": {
     "frozen": true
    }
   },
   "outputs": [
    {
     "name": "stderr",
     "output_type": "stream",
     "text": [
      "100%|██████████| 32/32 [01:57<00:00,  3.66s/it]\n"
     ]
    }
   ],
   "source": [
    "# train\n",
    "t = tqdm(enumerate(data.train_dl), total=len(data.train_dl))\n",
    "for i, batch in t:\n",
    "    pass"
   ]
  },
  {
   "cell_type": "code",
   "execution_count": 30,
   "metadata": {
    "deletable": false,
    "editable": false,
    "run_control": {
     "frozen": true
    }
   },
   "outputs": [
    {
     "name": "stderr",
     "output_type": "stream",
     "text": [
      "100%|██████████| 78/78 [00:09<00:00,  8.46it/s]\n"
     ]
    }
   ],
   "source": [
    "# valid\n",
    "t = tqdm(enumerate(data.valid_dl), total=len(data.valid_dl))\n",
    "for i, batch in t:\n",
    "    pass"
   ]
  },
  {
   "cell_type": "markdown",
   "metadata": {},
   "source": [
    "# Model\n",
    "U-Net SparseConvNet implemenation ([link](https://github.com/facebookresearch/SparseConvNet/blob/master/examples/ScanNet/unet.py)): "
   ]
  },
  {
   "cell_type": "code",
   "execution_count": 28,
   "metadata": {},
   "outputs": [
    {
     "data": {
      "text/plain": [
       "SparseModelConfig;\n",
       "   resolution: 50\n",
       "   spatial_size: 4096\n",
       "   dimension: 3\n",
       "   block_reps: 1\n",
       "   m: 16\n",
       "   num_planes: [16, 32, 48, 64, 80, 96, 112]\n",
       "   residual_blocks: False\n",
       "   num_classes: 20\n",
       "   num_input_features: 3\n",
       "   mode: 4\n",
       "   downsample: [2, 2]\n",
       "   bias: False"
      ]
     },
     "execution_count": 28,
     "metadata": {},
     "output_type": "execute_result"
    }
   ],
   "source": [
    "# spatial_size  is full_scale\n",
    "model_config = SparseModelConfig(spatial_size=4096, num_classes=20, num_input_features=3, mode=4,\n",
    "                                 m=16, num_planes_coeffs=[1, 2, 3, 4, 5, 6, 7])\n",
    "model_config"
   ]
  },
  {
   "cell_type": "code",
   "execution_count": 29,
   "metadata": {},
   "outputs": [],
   "source": [
    "class Model(nn.Module):\n",
    "    def __init__(self, cfg):\n",
    "        nn.Module.__init__(self)\n",
    "        self.sparseModel = scn.Sequential(\n",
    "            scn.InputLayer(cfg.dimension, cfg.spatial_size, mode=cfg.mode),\n",
    "            scn.SubmanifoldConvolution(cfg.dimension, nIn=cfg.num_input_features, nOut=cfg.m, filter_size=3, bias=cfg.bias),\n",
    "            scn.UNet(cfg.dimension, cfg.block_reps, cfg.num_planes, residual_blocks=cfg.residual_blocks, downsample=cfg.downsample),\n",
    "            scn.BatchNormReLU(cfg.m),\n",
    "            scn.OutputLayer(cfg.dimension),\n",
    "        )\n",
    "        self.linear = nn.Linear(cfg.m, cfg.num_classes)\n",
    "\n",
    "    def forward(self, xb):\n",
    "        x = [xb['coords'], xb['features']]\n",
    "        x = self.sparseModel(x)\n",
    "        x = self.linear(x)\n",
    "        return x\n",
    "\n",
    "model = Model(model_config)"
   ]
  },
  {
   "cell_type": "code",
   "execution_count": 30,
   "metadata": {
    "scrolled": true
   },
   "outputs": [
    {
     "name": "stdout",
     "output_type": "stream",
     "text": [
      "Total: 2,689,860\n"
     ]
    },
    {
     "data": {
      "text/html": [
       "<div>\n",
       "<style scoped>\n",
       "    .dataframe tbody tr th:only-of-type {\n",
       "        vertical-align: middle;\n",
       "    }\n",
       "\n",
       "    .dataframe tbody tr th {\n",
       "        vertical-align: top;\n",
       "    }\n",
       "\n",
       "    .dataframe thead th {\n",
       "        text-align: right;\n",
       "    }\n",
       "</style>\n",
       "<table border=\"1\" class=\"dataframe\">\n",
       "  <thead>\n",
       "    <tr style=\"text-align: right;\">\n",
       "      <th></th>\n",
       "      <th>name</th>\n",
       "      <th>number</th>\n",
       "      <th>shape</th>\n",
       "    </tr>\n",
       "  </thead>\n",
       "  <tbody>\n",
       "    <tr>\n",
       "      <th>0</th>\n",
       "      <td>sparseModel.1.weight</td>\n",
       "      <td>1296</td>\n",
       "      <td>27 x 3 x 16</td>\n",
       "    </tr>\n",
       "    <tr>\n",
       "      <th>1</th>\n",
       "      <td>sparseModel.2.0.0.weight</td>\n",
       "      <td>16</td>\n",
       "      <td>16</td>\n",
       "    </tr>\n",
       "    <tr>\n",
       "      <th>2</th>\n",
       "      <td>sparseModel.2.0.0.bias</td>\n",
       "      <td>16</td>\n",
       "      <td>16</td>\n",
       "    </tr>\n",
       "    <tr>\n",
       "      <th>3</th>\n",
       "      <td>sparseModel.2.0.1.weight</td>\n",
       "      <td>6912</td>\n",
       "      <td>27 x 16 x 16</td>\n",
       "    </tr>\n",
       "    <tr>\n",
       "      <th>4</th>\n",
       "      <td>sparseModel.2.1.1.0.weight</td>\n",
       "      <td>16</td>\n",
       "      <td>16</td>\n",
       "    </tr>\n",
       "    <tr>\n",
       "      <th>5</th>\n",
       "      <td>sparseModel.2.1.1.0.bias</td>\n",
       "      <td>16</td>\n",
       "      <td>16</td>\n",
       "    </tr>\n",
       "    <tr>\n",
       "      <th>6</th>\n",
       "      <td>sparseModel.2.1.1.1.weight</td>\n",
       "      <td>4096</td>\n",
       "      <td>8 x 16 x 32</td>\n",
       "    </tr>\n",
       "    <tr>\n",
       "      <th>7</th>\n",
       "      <td>sparseModel.2.1.1.2.0.0.weight</td>\n",
       "      <td>32</td>\n",
       "      <td>32</td>\n",
       "    </tr>\n",
       "    <tr>\n",
       "      <th>8</th>\n",
       "      <td>sparseModel.2.1.1.2.0.0.bias</td>\n",
       "      <td>32</td>\n",
       "      <td>32</td>\n",
       "    </tr>\n",
       "    <tr>\n",
       "      <th>9</th>\n",
       "      <td>sparseModel.2.1.1.2.0.1.weight</td>\n",
       "      <td>27648</td>\n",
       "      <td>27 x 32 x 32</td>\n",
       "    </tr>\n",
       "    <tr>\n",
       "      <th>10</th>\n",
       "      <td>sparseModel.2.1.1.2.1.1.0.weight</td>\n",
       "      <td>32</td>\n",
       "      <td>32</td>\n",
       "    </tr>\n",
       "    <tr>\n",
       "      <th>11</th>\n",
       "      <td>sparseModel.2.1.1.2.1.1.0.bias</td>\n",
       "      <td>32</td>\n",
       "      <td>32</td>\n",
       "    </tr>\n",
       "    <tr>\n",
       "      <th>12</th>\n",
       "      <td>sparseModel.2.1.1.2.1.1.1.weight</td>\n",
       "      <td>12288</td>\n",
       "      <td>8 x 32 x 48</td>\n",
       "    </tr>\n",
       "    <tr>\n",
       "      <th>13</th>\n",
       "      <td>sparseModel.2.1.1.2.1.1.2.0.0.weight</td>\n",
       "      <td>48</td>\n",
       "      <td>48</td>\n",
       "    </tr>\n",
       "    <tr>\n",
       "      <th>14</th>\n",
       "      <td>sparseModel.2.1.1.2.1.1.2.0.0.bias</td>\n",
       "      <td>48</td>\n",
       "      <td>48</td>\n",
       "    </tr>\n",
       "    <tr>\n",
       "      <th>15</th>\n",
       "      <td>sparseModel.2.1.1.2.1.1.2.0.1.weight</td>\n",
       "      <td>62208</td>\n",
       "      <td>27 x 48 x 48</td>\n",
       "    </tr>\n",
       "    <tr>\n",
       "      <th>16</th>\n",
       "      <td>sparseModel.2.1.1.2.1.1.2.1.1.0.weight</td>\n",
       "      <td>48</td>\n",
       "      <td>48</td>\n",
       "    </tr>\n",
       "    <tr>\n",
       "      <th>17</th>\n",
       "      <td>sparseModel.2.1.1.2.1.1.2.1.1.0.bias</td>\n",
       "      <td>48</td>\n",
       "      <td>48</td>\n",
       "    </tr>\n",
       "    <tr>\n",
       "      <th>18</th>\n",
       "      <td>sparseModel.2.1.1.2.1.1.2.1.1.1.weight</td>\n",
       "      <td>24576</td>\n",
       "      <td>8 x 48 x 64</td>\n",
       "    </tr>\n",
       "    <tr>\n",
       "      <th>19</th>\n",
       "      <td>sparseModel.2.1.1.2.1.1.2.1.1.2.0.0.weight</td>\n",
       "      <td>64</td>\n",
       "      <td>64</td>\n",
       "    </tr>\n",
       "    <tr>\n",
       "      <th>20</th>\n",
       "      <td>sparseModel.2.1.1.2.1.1.2.1.1.2.0.0.bias</td>\n",
       "      <td>64</td>\n",
       "      <td>64</td>\n",
       "    </tr>\n",
       "    <tr>\n",
       "      <th>21</th>\n",
       "      <td>sparseModel.2.1.1.2.1.1.2.1.1.2.0.1.weight</td>\n",
       "      <td>110592</td>\n",
       "      <td>27 x 64 x 64</td>\n",
       "    </tr>\n",
       "    <tr>\n",
       "      <th>22</th>\n",
       "      <td>sparseModel.2.1.1.2.1.1.2.1.1.2.1.1.0.weight</td>\n",
       "      <td>64</td>\n",
       "      <td>64</td>\n",
       "    </tr>\n",
       "    <tr>\n",
       "      <th>23</th>\n",
       "      <td>sparseModel.2.1.1.2.1.1.2.1.1.2.1.1.0.bias</td>\n",
       "      <td>64</td>\n",
       "      <td>64</td>\n",
       "    </tr>\n",
       "    <tr>\n",
       "      <th>24</th>\n",
       "      <td>sparseModel.2.1.1.2.1.1.2.1.1.2.1.1.1.weight</td>\n",
       "      <td>40960</td>\n",
       "      <td>8 x 64 x 80</td>\n",
       "    </tr>\n",
       "    <tr>\n",
       "      <th>25</th>\n",
       "      <td>sparseModel.2.1.1.2.1.1.2.1.1.2.1.1.2.0.0.weight</td>\n",
       "      <td>80</td>\n",
       "      <td>80</td>\n",
       "    </tr>\n",
       "    <tr>\n",
       "      <th>26</th>\n",
       "      <td>sparseModel.2.1.1.2.1.1.2.1.1.2.1.1.2.0.0.bias</td>\n",
       "      <td>80</td>\n",
       "      <td>80</td>\n",
       "    </tr>\n",
       "    <tr>\n",
       "      <th>27</th>\n",
       "      <td>sparseModel.2.1.1.2.1.1.2.1.1.2.1.1.2.0.1.weight</td>\n",
       "      <td>172800</td>\n",
       "      <td>27 x 80 x 80</td>\n",
       "    </tr>\n",
       "    <tr>\n",
       "      <th>28</th>\n",
       "      <td>sparseModel.2.1.1.2.1.1.2.1.1.2.1.1.2.1.1.0.weight</td>\n",
       "      <td>80</td>\n",
       "      <td>80</td>\n",
       "    </tr>\n",
       "    <tr>\n",
       "      <th>29</th>\n",
       "      <td>sparseModel.2.1.1.2.1.1.2.1.1.2.1.1.2.1.1.0.bias</td>\n",
       "      <td>80</td>\n",
       "      <td>80</td>\n",
       "    </tr>\n",
       "    <tr>\n",
       "      <th>30</th>\n",
       "      <td>sparseModel.2.1.1.2.1.1.2.1.1.2.1.1.2.1.1.1.weight</td>\n",
       "      <td>61440</td>\n",
       "      <td>8 x 80 x 96</td>\n",
       "    </tr>\n",
       "    <tr>\n",
       "      <th>31</th>\n",
       "      <td>sparseModel.2.1.1.2.1.1.2.1.1.2.1.1.2.1.1.2.0.0.weight</td>\n",
       "      <td>96</td>\n",
       "      <td>96</td>\n",
       "    </tr>\n",
       "    <tr>\n",
       "      <th>32</th>\n",
       "      <td>sparseModel.2.1.1.2.1.1.2.1.1.2.1.1.2.1.1.2.0.0.bias</td>\n",
       "      <td>96</td>\n",
       "      <td>96</td>\n",
       "    </tr>\n",
       "    <tr>\n",
       "      <th>33</th>\n",
       "      <td>sparseModel.2.1.1.2.1.1.2.1.1.2.1.1.2.1.1.2.0.1.weight</td>\n",
       "      <td>248832</td>\n",
       "      <td>27 x 96 x 96</td>\n",
       "    </tr>\n",
       "    <tr>\n",
       "      <th>34</th>\n",
       "      <td>sparseModel.2.1.1.2.1.1.2.1.1.2.1.1.2.1.1.2.1.1.0.weight</td>\n",
       "      <td>96</td>\n",
       "      <td>96</td>\n",
       "    </tr>\n",
       "    <tr>\n",
       "      <th>35</th>\n",
       "      <td>sparseModel.2.1.1.2.1.1.2.1.1.2.1.1.2.1.1.2.1.1.0.bias</td>\n",
       "      <td>96</td>\n",
       "      <td>96</td>\n",
       "    </tr>\n",
       "    <tr>\n",
       "      <th>36</th>\n",
       "      <td>sparseModel.2.1.1.2.1.1.2.1.1.2.1.1.2.1.1.2.1.1.1.weight</td>\n",
       "      <td>86016</td>\n",
       "      <td>8 x 96 x 112</td>\n",
       "    </tr>\n",
       "    <tr>\n",
       "      <th>37</th>\n",
       "      <td>sparseModel.2.1.1.2.1.1.2.1.1.2.1.1.2.1.1.2.1.1.2.0.0.weight</td>\n",
       "      <td>112</td>\n",
       "      <td>112</td>\n",
       "    </tr>\n",
       "    <tr>\n",
       "      <th>38</th>\n",
       "      <td>sparseModel.2.1.1.2.1.1.2.1.1.2.1.1.2.1.1.2.1.1.2.0.0.bias</td>\n",
       "      <td>112</td>\n",
       "      <td>112</td>\n",
       "    </tr>\n",
       "    <tr>\n",
       "      <th>39</th>\n",
       "      <td>sparseModel.2.1.1.2.1.1.2.1.1.2.1.1.2.1.1.2.1.1.2.0.1.weight</td>\n",
       "      <td>338688</td>\n",
       "      <td>27 x 112 x 112</td>\n",
       "    </tr>\n",
       "    <tr>\n",
       "      <th>40</th>\n",
       "      <td>sparseModel.2.1.1.2.1.1.2.1.1.2.1.1.2.1.1.2.1.1.3.weight</td>\n",
       "      <td>112</td>\n",
       "      <td>112</td>\n",
       "    </tr>\n",
       "    <tr>\n",
       "      <th>41</th>\n",
       "      <td>sparseModel.2.1.1.2.1.1.2.1.1.2.1.1.2.1.1.2.1.1.3.bias</td>\n",
       "      <td>112</td>\n",
       "      <td>112</td>\n",
       "    </tr>\n",
       "    <tr>\n",
       "      <th>42</th>\n",
       "      <td>sparseModel.2.1.1.2.1.1.2.1.1.2.1.1.2.1.1.2.1.1.4.weight</td>\n",
       "      <td>86016</td>\n",
       "      <td>8 x 112 x 96</td>\n",
       "    </tr>\n",
       "    <tr>\n",
       "      <th>43</th>\n",
       "      <td>sparseModel.2.1.1.2.1.1.2.1.1.2.1.1.2.1.1.2.3.0.weight</td>\n",
       "      <td>192</td>\n",
       "      <td>192</td>\n",
       "    </tr>\n",
       "    <tr>\n",
       "      <th>44</th>\n",
       "      <td>sparseModel.2.1.1.2.1.1.2.1.1.2.1.1.2.1.1.2.3.0.bias</td>\n",
       "      <td>192</td>\n",
       "      <td>192</td>\n",
       "    </tr>\n",
       "    <tr>\n",
       "      <th>45</th>\n",
       "      <td>sparseModel.2.1.1.2.1.1.2.1.1.2.1.1.2.1.1.2.3.1.weight</td>\n",
       "      <td>497664</td>\n",
       "      <td>27 x 192 x 96</td>\n",
       "    </tr>\n",
       "    <tr>\n",
       "      <th>46</th>\n",
       "      <td>sparseModel.2.1.1.2.1.1.2.1.1.2.1.1.2.1.1.3.weight</td>\n",
       "      <td>96</td>\n",
       "      <td>96</td>\n",
       "    </tr>\n",
       "    <tr>\n",
       "      <th>47</th>\n",
       "      <td>sparseModel.2.1.1.2.1.1.2.1.1.2.1.1.2.1.1.3.bias</td>\n",
       "      <td>96</td>\n",
       "      <td>96</td>\n",
       "    </tr>\n",
       "    <tr>\n",
       "      <th>48</th>\n",
       "      <td>sparseModel.2.1.1.2.1.1.2.1.1.2.1.1.2.1.1.4.weight</td>\n",
       "      <td>61440</td>\n",
       "      <td>8 x 96 x 80</td>\n",
       "    </tr>\n",
       "    <tr>\n",
       "      <th>49</th>\n",
       "      <td>sparseModel.2.1.1.2.1.1.2.1.1.2.1.1.2.3.0.weight</td>\n",
       "      <td>160</td>\n",
       "      <td>160</td>\n",
       "    </tr>\n",
       "    <tr>\n",
       "      <th>50</th>\n",
       "      <td>sparseModel.2.1.1.2.1.1.2.1.1.2.1.1.2.3.0.bias</td>\n",
       "      <td>160</td>\n",
       "      <td>160</td>\n",
       "    </tr>\n",
       "    <tr>\n",
       "      <th>51</th>\n",
       "      <td>sparseModel.2.1.1.2.1.1.2.1.1.2.1.1.2.3.1.weight</td>\n",
       "      <td>345600</td>\n",
       "      <td>27 x 160 x 80</td>\n",
       "    </tr>\n",
       "    <tr>\n",
       "      <th>52</th>\n",
       "      <td>sparseModel.2.1.1.2.1.1.2.1.1.2.1.1.3.weight</td>\n",
       "      <td>80</td>\n",
       "      <td>80</td>\n",
       "    </tr>\n",
       "    <tr>\n",
       "      <th>53</th>\n",
       "      <td>sparseModel.2.1.1.2.1.1.2.1.1.2.1.1.3.bias</td>\n",
       "      <td>80</td>\n",
       "      <td>80</td>\n",
       "    </tr>\n",
       "    <tr>\n",
       "      <th>54</th>\n",
       "      <td>sparseModel.2.1.1.2.1.1.2.1.1.2.1.1.4.weight</td>\n",
       "      <td>40960</td>\n",
       "      <td>8 x 80 x 64</td>\n",
       "    </tr>\n",
       "    <tr>\n",
       "      <th>55</th>\n",
       "      <td>sparseModel.2.1.1.2.1.1.2.1.1.2.3.0.weight</td>\n",
       "      <td>128</td>\n",
       "      <td>128</td>\n",
       "    </tr>\n",
       "    <tr>\n",
       "      <th>56</th>\n",
       "      <td>sparseModel.2.1.1.2.1.1.2.1.1.2.3.0.bias</td>\n",
       "      <td>128</td>\n",
       "      <td>128</td>\n",
       "    </tr>\n",
       "    <tr>\n",
       "      <th>57</th>\n",
       "      <td>sparseModel.2.1.1.2.1.1.2.1.1.2.3.1.weight</td>\n",
       "      <td>221184</td>\n",
       "      <td>27 x 128 x 64</td>\n",
       "    </tr>\n",
       "    <tr>\n",
       "      <th>58</th>\n",
       "      <td>sparseModel.2.1.1.2.1.1.2.1.1.3.weight</td>\n",
       "      <td>64</td>\n",
       "      <td>64</td>\n",
       "    </tr>\n",
       "    <tr>\n",
       "      <th>59</th>\n",
       "      <td>sparseModel.2.1.1.2.1.1.2.1.1.3.bias</td>\n",
       "      <td>64</td>\n",
       "      <td>64</td>\n",
       "    </tr>\n",
       "    <tr>\n",
       "      <th>60</th>\n",
       "      <td>sparseModel.2.1.1.2.1.1.2.1.1.4.weight</td>\n",
       "      <td>24576</td>\n",
       "      <td>8 x 64 x 48</td>\n",
       "    </tr>\n",
       "    <tr>\n",
       "      <th>61</th>\n",
       "      <td>sparseModel.2.1.1.2.1.1.2.3.0.weight</td>\n",
       "      <td>96</td>\n",
       "      <td>96</td>\n",
       "    </tr>\n",
       "    <tr>\n",
       "      <th>62</th>\n",
       "      <td>sparseModel.2.1.1.2.1.1.2.3.0.bias</td>\n",
       "      <td>96</td>\n",
       "      <td>96</td>\n",
       "    </tr>\n",
       "    <tr>\n",
       "      <th>63</th>\n",
       "      <td>sparseModel.2.1.1.2.1.1.2.3.1.weight</td>\n",
       "      <td>124416</td>\n",
       "      <td>27 x 96 x 48</td>\n",
       "    </tr>\n",
       "    <tr>\n",
       "      <th>64</th>\n",
       "      <td>sparseModel.2.1.1.2.1.1.3.weight</td>\n",
       "      <td>48</td>\n",
       "      <td>48</td>\n",
       "    </tr>\n",
       "    <tr>\n",
       "      <th>65</th>\n",
       "      <td>sparseModel.2.1.1.2.1.1.3.bias</td>\n",
       "      <td>48</td>\n",
       "      <td>48</td>\n",
       "    </tr>\n",
       "    <tr>\n",
       "      <th>66</th>\n",
       "      <td>sparseModel.2.1.1.2.1.1.4.weight</td>\n",
       "      <td>12288</td>\n",
       "      <td>8 x 48 x 32</td>\n",
       "    </tr>\n",
       "    <tr>\n",
       "      <th>67</th>\n",
       "      <td>sparseModel.2.1.1.2.3.0.weight</td>\n",
       "      <td>64</td>\n",
       "      <td>64</td>\n",
       "    </tr>\n",
       "    <tr>\n",
       "      <th>68</th>\n",
       "      <td>sparseModel.2.1.1.2.3.0.bias</td>\n",
       "      <td>64</td>\n",
       "      <td>64</td>\n",
       "    </tr>\n",
       "    <tr>\n",
       "      <th>69</th>\n",
       "      <td>sparseModel.2.1.1.2.3.1.weight</td>\n",
       "      <td>55296</td>\n",
       "      <td>27 x 64 x 32</td>\n",
       "    </tr>\n",
       "    <tr>\n",
       "      <th>70</th>\n",
       "      <td>sparseModel.2.1.1.3.weight</td>\n",
       "      <td>32</td>\n",
       "      <td>32</td>\n",
       "    </tr>\n",
       "    <tr>\n",
       "      <th>71</th>\n",
       "      <td>sparseModel.2.1.1.3.bias</td>\n",
       "      <td>32</td>\n",
       "      <td>32</td>\n",
       "    </tr>\n",
       "    <tr>\n",
       "      <th>72</th>\n",
       "      <td>sparseModel.2.1.1.4.weight</td>\n",
       "      <td>4096</td>\n",
       "      <td>8 x 32 x 16</td>\n",
       "    </tr>\n",
       "    <tr>\n",
       "      <th>73</th>\n",
       "      <td>sparseModel.2.3.0.weight</td>\n",
       "      <td>32</td>\n",
       "      <td>32</td>\n",
       "    </tr>\n",
       "    <tr>\n",
       "      <th>74</th>\n",
       "      <td>sparseModel.2.3.0.bias</td>\n",
       "      <td>32</td>\n",
       "      <td>32</td>\n",
       "    </tr>\n",
       "    <tr>\n",
       "      <th>75</th>\n",
       "      <td>sparseModel.2.3.1.weight</td>\n",
       "      <td>13824</td>\n",
       "      <td>27 x 32 x 16</td>\n",
       "    </tr>\n",
       "    <tr>\n",
       "      <th>76</th>\n",
       "      <td>sparseModel.3.weight</td>\n",
       "      <td>16</td>\n",
       "      <td>16</td>\n",
       "    </tr>\n",
       "    <tr>\n",
       "      <th>77</th>\n",
       "      <td>sparseModel.3.bias</td>\n",
       "      <td>16</td>\n",
       "      <td>16</td>\n",
       "    </tr>\n",
       "    <tr>\n",
       "      <th>78</th>\n",
       "      <td>linear.weight</td>\n",
       "      <td>320</td>\n",
       "      <td>20 x 16</td>\n",
       "    </tr>\n",
       "    <tr>\n",
       "      <th>79</th>\n",
       "      <td>linear.bias</td>\n",
       "      <td>20</td>\n",
       "      <td>20</td>\n",
       "    </tr>\n",
       "  </tbody>\n",
       "</table>\n",
       "</div>"
      ],
      "text/plain": [
       "                                                            name  number  \\\n",
       "0                                           sparseModel.1.weight    1296   \n",
       "1                                       sparseModel.2.0.0.weight      16   \n",
       "2                                         sparseModel.2.0.0.bias      16   \n",
       "3                                       sparseModel.2.0.1.weight    6912   \n",
       "4                                     sparseModel.2.1.1.0.weight      16   \n",
       "5                                       sparseModel.2.1.1.0.bias      16   \n",
       "6                                     sparseModel.2.1.1.1.weight    4096   \n",
       "7                                 sparseModel.2.1.1.2.0.0.weight      32   \n",
       "8                                   sparseModel.2.1.1.2.0.0.bias      32   \n",
       "9                                 sparseModel.2.1.1.2.0.1.weight   27648   \n",
       "10                              sparseModel.2.1.1.2.1.1.0.weight      32   \n",
       "11                                sparseModel.2.1.1.2.1.1.0.bias      32   \n",
       "12                              sparseModel.2.1.1.2.1.1.1.weight   12288   \n",
       "13                          sparseModel.2.1.1.2.1.1.2.0.0.weight      48   \n",
       "14                            sparseModel.2.1.1.2.1.1.2.0.0.bias      48   \n",
       "15                          sparseModel.2.1.1.2.1.1.2.0.1.weight   62208   \n",
       "16                        sparseModel.2.1.1.2.1.1.2.1.1.0.weight      48   \n",
       "17                          sparseModel.2.1.1.2.1.1.2.1.1.0.bias      48   \n",
       "18                        sparseModel.2.1.1.2.1.1.2.1.1.1.weight   24576   \n",
       "19                    sparseModel.2.1.1.2.1.1.2.1.1.2.0.0.weight      64   \n",
       "20                      sparseModel.2.1.1.2.1.1.2.1.1.2.0.0.bias      64   \n",
       "21                    sparseModel.2.1.1.2.1.1.2.1.1.2.0.1.weight  110592   \n",
       "22                  sparseModel.2.1.1.2.1.1.2.1.1.2.1.1.0.weight      64   \n",
       "23                    sparseModel.2.1.1.2.1.1.2.1.1.2.1.1.0.bias      64   \n",
       "24                  sparseModel.2.1.1.2.1.1.2.1.1.2.1.1.1.weight   40960   \n",
       "25              sparseModel.2.1.1.2.1.1.2.1.1.2.1.1.2.0.0.weight      80   \n",
       "26                sparseModel.2.1.1.2.1.1.2.1.1.2.1.1.2.0.0.bias      80   \n",
       "27              sparseModel.2.1.1.2.1.1.2.1.1.2.1.1.2.0.1.weight  172800   \n",
       "28            sparseModel.2.1.1.2.1.1.2.1.1.2.1.1.2.1.1.0.weight      80   \n",
       "29              sparseModel.2.1.1.2.1.1.2.1.1.2.1.1.2.1.1.0.bias      80   \n",
       "30            sparseModel.2.1.1.2.1.1.2.1.1.2.1.1.2.1.1.1.weight   61440   \n",
       "31        sparseModel.2.1.1.2.1.1.2.1.1.2.1.1.2.1.1.2.0.0.weight      96   \n",
       "32          sparseModel.2.1.1.2.1.1.2.1.1.2.1.1.2.1.1.2.0.0.bias      96   \n",
       "33        sparseModel.2.1.1.2.1.1.2.1.1.2.1.1.2.1.1.2.0.1.weight  248832   \n",
       "34      sparseModel.2.1.1.2.1.1.2.1.1.2.1.1.2.1.1.2.1.1.0.weight      96   \n",
       "35        sparseModel.2.1.1.2.1.1.2.1.1.2.1.1.2.1.1.2.1.1.0.bias      96   \n",
       "36      sparseModel.2.1.1.2.1.1.2.1.1.2.1.1.2.1.1.2.1.1.1.weight   86016   \n",
       "37  sparseModel.2.1.1.2.1.1.2.1.1.2.1.1.2.1.1.2.1.1.2.0.0.weight     112   \n",
       "38    sparseModel.2.1.1.2.1.1.2.1.1.2.1.1.2.1.1.2.1.1.2.0.0.bias     112   \n",
       "39  sparseModel.2.1.1.2.1.1.2.1.1.2.1.1.2.1.1.2.1.1.2.0.1.weight  338688   \n",
       "40      sparseModel.2.1.1.2.1.1.2.1.1.2.1.1.2.1.1.2.1.1.3.weight     112   \n",
       "41        sparseModel.2.1.1.2.1.1.2.1.1.2.1.1.2.1.1.2.1.1.3.bias     112   \n",
       "42      sparseModel.2.1.1.2.1.1.2.1.1.2.1.1.2.1.1.2.1.1.4.weight   86016   \n",
       "43        sparseModel.2.1.1.2.1.1.2.1.1.2.1.1.2.1.1.2.3.0.weight     192   \n",
       "44          sparseModel.2.1.1.2.1.1.2.1.1.2.1.1.2.1.1.2.3.0.bias     192   \n",
       "45        sparseModel.2.1.1.2.1.1.2.1.1.2.1.1.2.1.1.2.3.1.weight  497664   \n",
       "46            sparseModel.2.1.1.2.1.1.2.1.1.2.1.1.2.1.1.3.weight      96   \n",
       "47              sparseModel.2.1.1.2.1.1.2.1.1.2.1.1.2.1.1.3.bias      96   \n",
       "48            sparseModel.2.1.1.2.1.1.2.1.1.2.1.1.2.1.1.4.weight   61440   \n",
       "49              sparseModel.2.1.1.2.1.1.2.1.1.2.1.1.2.3.0.weight     160   \n",
       "50                sparseModel.2.1.1.2.1.1.2.1.1.2.1.1.2.3.0.bias     160   \n",
       "51              sparseModel.2.1.1.2.1.1.2.1.1.2.1.1.2.3.1.weight  345600   \n",
       "52                  sparseModel.2.1.1.2.1.1.2.1.1.2.1.1.3.weight      80   \n",
       "53                    sparseModel.2.1.1.2.1.1.2.1.1.2.1.1.3.bias      80   \n",
       "54                  sparseModel.2.1.1.2.1.1.2.1.1.2.1.1.4.weight   40960   \n",
       "55                    sparseModel.2.1.1.2.1.1.2.1.1.2.3.0.weight     128   \n",
       "56                      sparseModel.2.1.1.2.1.1.2.1.1.2.3.0.bias     128   \n",
       "57                    sparseModel.2.1.1.2.1.1.2.1.1.2.3.1.weight  221184   \n",
       "58                        sparseModel.2.1.1.2.1.1.2.1.1.3.weight      64   \n",
       "59                          sparseModel.2.1.1.2.1.1.2.1.1.3.bias      64   \n",
       "60                        sparseModel.2.1.1.2.1.1.2.1.1.4.weight   24576   \n",
       "61                          sparseModel.2.1.1.2.1.1.2.3.0.weight      96   \n",
       "62                            sparseModel.2.1.1.2.1.1.2.3.0.bias      96   \n",
       "63                          sparseModel.2.1.1.2.1.1.2.3.1.weight  124416   \n",
       "64                              sparseModel.2.1.1.2.1.1.3.weight      48   \n",
       "65                                sparseModel.2.1.1.2.1.1.3.bias      48   \n",
       "66                              sparseModel.2.1.1.2.1.1.4.weight   12288   \n",
       "67                                sparseModel.2.1.1.2.3.0.weight      64   \n",
       "68                                  sparseModel.2.1.1.2.3.0.bias      64   \n",
       "69                                sparseModel.2.1.1.2.3.1.weight   55296   \n",
       "70                                    sparseModel.2.1.1.3.weight      32   \n",
       "71                                      sparseModel.2.1.1.3.bias      32   \n",
       "72                                    sparseModel.2.1.1.4.weight    4096   \n",
       "73                                      sparseModel.2.3.0.weight      32   \n",
       "74                                        sparseModel.2.3.0.bias      32   \n",
       "75                                      sparseModel.2.3.1.weight   13824   \n",
       "76                                          sparseModel.3.weight      16   \n",
       "77                                            sparseModel.3.bias      16   \n",
       "78                                                 linear.weight     320   \n",
       "79                                                   linear.bias      20   \n",
       "\n",
       "             shape  \n",
       "0      27 x 3 x 16  \n",
       "1               16  \n",
       "2               16  \n",
       "3     27 x 16 x 16  \n",
       "4               16  \n",
       "5               16  \n",
       "6      8 x 16 x 32  \n",
       "7               32  \n",
       "8               32  \n",
       "9     27 x 32 x 32  \n",
       "10              32  \n",
       "11              32  \n",
       "12     8 x 32 x 48  \n",
       "13              48  \n",
       "14              48  \n",
       "15    27 x 48 x 48  \n",
       "16              48  \n",
       "17              48  \n",
       "18     8 x 48 x 64  \n",
       "19              64  \n",
       "20              64  \n",
       "21    27 x 64 x 64  \n",
       "22              64  \n",
       "23              64  \n",
       "24     8 x 64 x 80  \n",
       "25              80  \n",
       "26              80  \n",
       "27    27 x 80 x 80  \n",
       "28              80  \n",
       "29              80  \n",
       "30     8 x 80 x 96  \n",
       "31              96  \n",
       "32              96  \n",
       "33    27 x 96 x 96  \n",
       "34              96  \n",
       "35              96  \n",
       "36    8 x 96 x 112  \n",
       "37             112  \n",
       "38             112  \n",
       "39  27 x 112 x 112  \n",
       "40             112  \n",
       "41             112  \n",
       "42    8 x 112 x 96  \n",
       "43             192  \n",
       "44             192  \n",
       "45   27 x 192 x 96  \n",
       "46              96  \n",
       "47              96  \n",
       "48     8 x 96 x 80  \n",
       "49             160  \n",
       "50             160  \n",
       "51   27 x 160 x 80  \n",
       "52              80  \n",
       "53              80  \n",
       "54     8 x 80 x 64  \n",
       "55             128  \n",
       "56             128  \n",
       "57   27 x 128 x 64  \n",
       "58              64  \n",
       "59              64  \n",
       "60     8 x 64 x 48  \n",
       "61              96  \n",
       "62              96  \n",
       "63    27 x 96 x 48  \n",
       "64              48  \n",
       "65              48  \n",
       "66     8 x 48 x 32  \n",
       "67              64  \n",
       "68              64  \n",
       "69    27 x 64 x 32  \n",
       "70              32  \n",
       "71              32  \n",
       "72     8 x 32 x 16  \n",
       "73              32  \n",
       "74              32  \n",
       "75    27 x 32 x 16  \n",
       "76              16  \n",
       "77              16  \n",
       "78         20 x 16  \n",
       "79              20  "
      ]
     },
     "metadata": {},
     "output_type": "display_data"
    }
   ],
   "source": [
    "utils.print_trainable_parameters(model)"
   ]
  },
  {
   "cell_type": "markdown",
   "metadata": {},
   "source": [
    "## learner creation\n",
    "Learner is core fast.ai class which contains model architecture, databunch and optimizer options and implement train loop and prediction"
   ]
  },
  {
   "cell_type": "code",
   "execution_count": 31,
   "metadata": {},
   "outputs": [],
   "source": [
    "learn = Learner(data, model,\n",
    "                opt_func=partial(optim.Adam),\n",
    "                path=str(Path('results', experiment_name)))"
   ]
  },
  {
   "cell_type": "markdown",
   "metadata": {},
   "source": [
    "## Learning Rate finder\n",
    "We use Learning Rate Finder provided by fast.ai library to find the optimal learning rate"
   ]
  },
  {
   "cell_type": "code",
   "execution_count": 32,
   "metadata": {
    "scrolled": false
   },
   "outputs": [
    {
     "data": {
      "text/html": [],
      "text/plain": [
       "<IPython.core.display.HTML object>"
      ]
     },
     "metadata": {},
     "output_type": "display_data"
    },
    {
     "name": "stdout",
     "output_type": "stream",
     "text": [
      "LR Finder is complete, type {learner_name}.recorder.plot() to see the graph.\n"
     ]
    }
   ],
   "source": [
    "learn.lr_find()"
   ]
  },
  {
   "cell_type": "code",
   "execution_count": 33,
   "metadata": {},
   "outputs": [
    {
     "data": {
      "image/png": "[encoded data removed]",
      "text/plain": [
       "<Figure size 432x288 with 1 Axes>"
      ]
     },
     "metadata": {
      "needs_background": "light"
     },
     "output_type": "display_data"
    }
   ],
   "source": [
    "learn.recorder.plot()"
   ]
  },
  {
   "cell_type": "markdown",
   "metadata": {},
   "source": [
    "# Train\n",
    "To visualize the learning process, we specify some additional callbacks "
   ]
  },
  {
   "cell_type": "code",
   "execution_count": 34,
   "metadata": {},
   "outputs": [],
   "source": [
    "learn.callbacks = []\n",
    "cb_iouf = IouMeanFiltred(learn, model_config.num_classes)\n",
    "learn.callbacks.append(cb_iouf)\n",
    "learn.callbacks.append(TimeLogger(learn))\n",
    "\n",
    "learn.callbacks.append(CSVLogger(learn))\n",
    "learn.callbacks.append(CSVLoggerIouByClass(learn, cb_iouf, class_names=list(df_classes.name), filename='iouf_by_class'))\n",
    "learn.callbacks.append(SaveModelCallback(learn, every='epoch', name='weights', overwrite=True))"
   ]
  },
  {
   "cell_type": "code",
   "execution_count": 35,
   "metadata": {},
   "outputs": [
    {
     "data": {
      "text/html": [
       "Total time: 37:14 <p><table border=\"1\" class=\"dataframe\">\n",
       "  <thead>\n",
       "    <tr style=\"text-align: left;\">\n",
       "      <th>epoch</th>\n",
       "      <th>train_loss</th>\n",
       "      <th>valid_loss</th>\n",
       "      <th>train_time</th>\n",
       "      <th>valid_time</th>\n",
       "      <th>train_iouf</th>\n",
       "      <th>valid_iouf</th>\n",
       "      <th>time</th>\n",
       "    </tr>\n",
       "  </thead>\n",
       "  <tbody>\n",
       "    <tr>\n",
       "      <td>0</td>\n",
       "      <td>2.142071</td>\n",
       "      <td>1.486216</td>\n",
       "      <td>199.204433</td>\n",
       "      <td>25.002772</td>\n",
       "      <td>0.067481</td>\n",
       "      <td>0.091057</td>\n",
       "      <td>03:44</td>\n",
       "    </tr>\n",
       "    <tr>\n",
       "      <td>1</td>\n",
       "      <td>1.583892</td>\n",
       "      <td>1.159074</td>\n",
       "      <td>196.919458</td>\n",
       "      <td>25.929344</td>\n",
       "      <td>0.090708</td>\n",
       "      <td>0.093117</td>\n",
       "      <td>03:42</td>\n",
       "    </tr>\n",
       "    <tr>\n",
       "      <td>2</td>\n",
       "      <td>1.281993</td>\n",
       "      <td>0.938813</td>\n",
       "      <td>198.293645</td>\n",
       "      <td>25.562968</td>\n",
       "      <td>0.092184</td>\n",
       "      <td>0.095952</td>\n",
       "      <td>03:43</td>\n",
       "    </tr>\n",
       "    <tr>\n",
       "      <td>3</td>\n",
       "      <td>1.114610</td>\n",
       "      <td>0.881162</td>\n",
       "      <td>197.232553</td>\n",
       "      <td>25.126281</td>\n",
       "      <td>0.093593</td>\n",
       "      <td>0.099409</td>\n",
       "      <td>03:42</td>\n",
       "    </tr>\n",
       "    <tr>\n",
       "      <td>4</td>\n",
       "      <td>1.017587</td>\n",
       "      <td>0.851509</td>\n",
       "      <td>200.283453</td>\n",
       "      <td>25.393532</td>\n",
       "      <td>0.104047</td>\n",
       "      <td>0.114671</td>\n",
       "      <td>03:45</td>\n",
       "    </tr>\n",
       "    <tr>\n",
       "      <td>5</td>\n",
       "      <td>0.958146</td>\n",
       "      <td>0.828581</td>\n",
       "      <td>196.874406</td>\n",
       "      <td>24.987829</td>\n",
       "      <td>0.110466</td>\n",
       "      <td>0.118989</td>\n",
       "      <td>03:42</td>\n",
       "    </tr>\n",
       "    <tr>\n",
       "      <td>6</td>\n",
       "      <td>0.917337</td>\n",
       "      <td>0.799608</td>\n",
       "      <td>197.871381</td>\n",
       "      <td>25.346020</td>\n",
       "      <td>0.113732</td>\n",
       "      <td>0.125615</td>\n",
       "      <td>03:43</td>\n",
       "    </tr>\n",
       "    <tr>\n",
       "      <td>7</td>\n",
       "      <td>0.887472</td>\n",
       "      <td>0.786581</td>\n",
       "      <td>195.243826</td>\n",
       "      <td>25.278917</td>\n",
       "      <td>0.120962</td>\n",
       "      <td>0.135966</td>\n",
       "      <td>03:40</td>\n",
       "    </tr>\n",
       "    <tr>\n",
       "      <td>8</td>\n",
       "      <td>0.867658</td>\n",
       "      <td>0.777040</td>\n",
       "      <td>196.453732</td>\n",
       "      <td>25.470668</td>\n",
       "      <td>0.128111</td>\n",
       "      <td>0.134509</td>\n",
       "      <td>03:42</td>\n",
       "    </tr>\n",
       "    <tr>\n",
       "      <td>9</td>\n",
       "      <td>0.844978</td>\n",
       "      <td>0.746211</td>\n",
       "      <td>201.004016</td>\n",
       "      <td>25.137502</td>\n",
       "      <td>0.134171</td>\n",
       "      <td>0.153192</td>\n",
       "      <td>03:46</td>\n",
       "    </tr>\n",
       "  </tbody>\n",
       "</table>"
      ],
      "text/plain": [
       "<IPython.core.display.HTML object>"
      ]
     },
     "metadata": {},
     "output_type": "display_data"
    },
    {
     "name": "stderr",
     "output_type": "stream",
     "text": [
      "/media/Linux_3Tb/p/aseg_fastai_sparse/examples/scannet/metrics.py:112: UserWarning: Wrong example is found: all `labels_raw` < 0. Id=scene0509_00\n",
      "  warnings.warn(f\"Wrong example is found: all `labels_raw` < 0. Id={xb['ids'][k]}\")\n"
     ]
    }
   ],
   "source": [
    "learn.fit(10)"
   ]
  },
  {
   "cell_type": "markdown",
   "metadata": {},
   "source": [
    "It takes 512 epochs to get IoU ~ 0.44 by this simple model."
   ]
  },
  {
   "cell_type": "code",
   "execution_count": null,
   "metadata": {
    "deletable": false,
    "editable": false,
    "run_control": {
     "frozen": true
    },
    "scrolled": false
   },
   "outputs": [],
   "source": [
    "learn.fit(512)"
   ]
  },
  {
   "cell_type": "markdown",
   "metadata": {},
   "source": [
    "# Results"
   ]
  },
  {
   "cell_type": "code",
   "execution_count": 36,
   "metadata": {},
   "outputs": [
    {
     "data": {
      "image/png": "[encoded data removed]",
      "text/plain": [
       "<Figure size 432x288 with 1 Axes>"
      ]
     },
     "metadata": {
      "needs_background": "light"
     },
     "output_type": "display_data"
    }
   ],
   "source": [
    "learn.recorder.plot()"
   ]
  },
  {
   "cell_type": "code",
   "execution_count": 37,
   "metadata": {},
   "outputs": [
    {
     "data": {
      "image/png": "[encoded data removed]",
      "text/plain": [
       "<Figure size 432x288 with 1 Axes>"
      ]
     },
     "metadata": {
      "needs_background": "light"
     },
     "output_type": "display_data"
    }
   ],
   "source": [
    "learn.recorder.plot_losses()"
   ]
  },
  {
   "cell_type": "code",
   "execution_count": 38,
   "metadata": {},
   "outputs": [
    {
     "data": {
      "image/png": "[encoded data removed]",
      "text/plain": [
       "<Figure size 432x288 with 1 Axes>"
      ]
     },
     "metadata": {
      "needs_background": "light"
     },
     "output_type": "display_data"
    }
   ],
   "source": [
    "learn.recorder.plot_lr()"
   ]
  },
  {
   "cell_type": "code",
   "execution_count": 39,
   "metadata": {},
   "outputs": [
    {
     "data": {
      "image/png": "[encoded data removed]",
      "text/plain": [
       "<Figure size 432x1152 with 4 Axes>"
      ]
     },
     "metadata": {
      "needs_background": "light"
     },
     "output_type": "display_data"
    }
   ],
   "source": [
    "learn.recorder.plot_metrics()"
   ]
  },
  {
   "cell_type": "code",
   "execution_count": 40,
   "metadata": {},
   "outputs": [
    {
     "data": {
      "text/html": [
       "<div>\n",
       "<style scoped>\n",
       "    .dataframe tbody tr th:only-of-type {\n",
       "        vertical-align: middle;\n",
       "    }\n",
       "\n",
       "    .dataframe tbody tr th {\n",
       "        vertical-align: top;\n",
       "    }\n",
       "\n",
       "    .dataframe thead th {\n",
       "        text-align: right;\n",
       "    }\n",
       "</style>\n",
       "<table border=\"1\" class=\"dataframe\">\n",
       "  <thead>\n",
       "    <tr style=\"text-align: right;\">\n",
       "      <th></th>\n",
       "      <th>19</th>\n",
       "    </tr>\n",
       "  </thead>\n",
       "  <tbody>\n",
       "    <tr>\n",
       "      <th>epoch</th>\n",
       "      <td>9</td>\n",
       "    </tr>\n",
       "    <tr>\n",
       "      <th>datatype</th>\n",
       "      <td>valid</td>\n",
       "    </tr>\n",
       "    <tr>\n",
       "      <th>mean_iou</th>\n",
       "      <td>0.153192</td>\n",
       "    </tr>\n",
       "    <tr>\n",
       "      <th>wall</th>\n",
       "      <td>0.789434</td>\n",
       "    </tr>\n",
       "    <tr>\n",
       "      <th>floor</th>\n",
       "      <td>0.362374</td>\n",
       "    </tr>\n",
       "    <tr>\n",
       "      <th>cabinet</th>\n",
       "      <td>0.939266</td>\n",
       "    </tr>\n",
       "    <tr>\n",
       "      <th>bed</th>\n",
       "      <td>0.33914</td>\n",
       "    </tr>\n",
       "    <tr>\n",
       "      <th>chair</th>\n",
       "      <td>0</td>\n",
       "    </tr>\n",
       "    <tr>\n",
       "      <th>sofa</th>\n",
       "      <td>0.207254</td>\n",
       "    </tr>\n",
       "    <tr>\n",
       "      <th>table</th>\n",
       "      <td>0.02865</td>\n",
       "    </tr>\n",
       "    <tr>\n",
       "      <th>door</th>\n",
       "      <td>0.303731</td>\n",
       "    </tr>\n",
       "    <tr>\n",
       "      <th>window</th>\n",
       "      <td>0.040723</td>\n",
       "    </tr>\n",
       "    <tr>\n",
       "      <th>bookshelf</th>\n",
       "      <td>0</td>\n",
       "    </tr>\n",
       "    <tr>\n",
       "      <th>picture</th>\n",
       "      <td>0.053263</td>\n",
       "    </tr>\n",
       "    <tr>\n",
       "      <th>counter</th>\n",
       "      <td>0</td>\n",
       "    </tr>\n",
       "    <tr>\n",
       "      <th>desk</th>\n",
       "      <td>0</td>\n",
       "    </tr>\n",
       "    <tr>\n",
       "      <th>curtain</th>\n",
       "      <td>0</td>\n",
       "    </tr>\n",
       "    <tr>\n",
       "      <th>refridgerator</th>\n",
       "      <td>0</td>\n",
       "    </tr>\n",
       "    <tr>\n",
       "      <th>shower</th>\n",
       "      <td>0</td>\n",
       "    </tr>\n",
       "    <tr>\n",
       "      <th>toilet</th>\n",
       "      <td>0</td>\n",
       "    </tr>\n",
       "    <tr>\n",
       "      <th>sink</th>\n",
       "      <td>0</td>\n",
       "    </tr>\n",
       "    <tr>\n",
       "      <th>bathtub</th>\n",
       "      <td>0</td>\n",
       "    </tr>\n",
       "    <tr>\n",
       "      <th>otherfurniture</th>\n",
       "      <td>0</td>\n",
       "    </tr>\n",
       "  </tbody>\n",
       "</table>\n",
       "</div>"
      ],
      "text/plain": [
       "                      19\n",
       "epoch                  9\n",
       "datatype           valid\n",
       "mean_iou        0.153192\n",
       "wall            0.789434\n",
       "floor           0.362374\n",
       "cabinet         0.939266\n",
       "bed              0.33914\n",
       "chair                  0\n",
       "sofa            0.207254\n",
       "table            0.02865\n",
       "door            0.303731\n",
       "window          0.040723\n",
       "bookshelf              0\n",
       "picture         0.053263\n",
       "counter                0\n",
       "desk                   0\n",
       "curtain                0\n",
       "refridgerator          0\n",
       "shower                 0\n",
       "toilet                 0\n",
       "sink                   0\n",
       "bathtub                0\n",
       "otherfurniture         0"
      ]
     },
     "execution_count": 40,
     "metadata": {},
     "output_type": "execute_result"
    }
   ],
   "source": [
    "cb = learn.find_callback(CSVLoggerIouByClass)\n",
    "cb.read_logged_file().iloc[-1:].T"
   ]
  },
  {
   "cell_type": "markdown",
   "metadata": {},
   "source": [
    "# Save"
   ]
  },
  {
   "cell_type": "markdown",
   "metadata": {},
   "source": [
    "Save manually"
   ]
  },
  {
   "cell_type": "code",
   "execution_count": 41,
   "metadata": {},
   "outputs": [],
   "source": [
    "fn_checkpoint = learn.path / learn.model_dir / 'learn_model.pth'\n",
    "#torch.save(epoch, 'epoch.pth')\n",
    "torch.save(model.state_dict(), fn_checkpoint)"
   ]
  },
  {
   "cell_type": "markdown",
   "metadata": {},
   "source": [
    "Check saved weights"
   ]
  },
  {
   "cell_type": "code",
   "execution_count": 42,
   "metadata": {},
   "outputs": [],
   "source": [
    "model.load_state_dict(torch.load(fn_checkpoint))"
   ]
  },
  {
   "cell_type": "markdown",
   "metadata": {},
   "source": [
    "# Validate"
   ]
  },
  {
   "cell_type": "markdown",
   "metadata": {},
   "source": [
    "## Load weights"
   ]
  },
  {
   "cell_type": "code",
   "execution_count": 43,
   "metadata": {},
   "outputs": [
    {
     "name": "stdout",
     "output_type": "stream",
     "text": [
      "results/unet_24_detailed-Copy1/models/weights.pth\n",
      "Epoch: 9\n"
     ]
    }
   ],
   "source": [
    "fn_checkpoint = learn.path / learn.model_dir / 'weights.pth'\n",
    "print(fn_checkpoint)\n",
    "assert fn_checkpoint.exists()\n",
    "assert os.path.isfile(fn_checkpoint)\n",
    "fn_epoch = learn.path / learn.model_dir / 'weights_epoch.pth'\n",
    "print(\"Epoch:\", torch.load(fn_epoch))"
   ]
  },
  {
   "cell_type": "code",
   "execution_count": 44,
   "metadata": {},
   "outputs": [],
   "source": [
    "learn.model.load_state_dict(torch.load(fn_checkpoint)['model'])"
   ]
  },
  {
   "cell_type": "markdown",
   "metadata": {},
   "source": [
    "## Validate"
   ]
  },
  {
   "cell_type": "code",
   "execution_count": 45,
   "metadata": {},
   "outputs": [],
   "source": [
    "# remove callback, because CSVLogger not worked with `learn.validate`\n",
    "learn.callbacks = []\n",
    "\n",
    "cb_iouf = IouMeanFiltred(learn, model_config.num_classes)\n",
    "\n",
    "validation_callbacks = [cb_iouf, TimeLogger(learn)]"
   ]
  },
  {
   "cell_type": "code",
   "execution_count": 46,
   "metadata": {},
   "outputs": [
    {
     "data": {
      "text/plain": [
       "[0.7382764, 0.0, 24.56704068183899, 0, 0.15445967805865574]"
      ]
     },
     "execution_count": 46,
     "metadata": {},
     "output_type": "execute_result"
    }
   ],
   "source": [
    "np.random.seed(42)\n",
    "last_metrics = learn.validate(callbacks=validation_callbacks)\n",
    "last_metrics"
   ]
  },
  {
   "cell_type": "markdown",
   "metadata": {},
   "source": [
    "Internal validation details"
   ]
  },
  {
   "cell_type": "code",
   "execution_count": 47,
   "metadata": {},
   "outputs": [
    {
     "name": "stdout",
     "output_type": "stream",
     "text": [
      "array([[5213074,   46192,   45883,   26826, ...,    5772,   10645,   13852,    3603],\n",
      "       [  15107,  315546,   14039,   49772, ...,     592,    4174,    1475,    1644],\n",
      "       [  50233,   15631, 3418911,    4979, ...,       0,    2479,     380,     334],\n",
      "       [   8630,   27314,    1489,  191164, ...,       0,    2110,     391,      19],\n",
      "       ...,\n",
      "       [      0,       0,       0,       0, ...,       0,       0,       0,       0],\n",
      "       [      0,       0,       0,       0, ...,       0,       0,       0,       0],\n",
      "       [      0,       0,       0,       0, ...,       0,       0,       0,       0],\n",
      "       [      0,       0,       0,       0, ...,       0,       0,       0,       0]], dtype=uint64)\n"
     ]
    },
    {
     "data": {
      "text/plain": [
       "0.15445967805865574"
      ]
     },
     "execution_count": 47,
     "metadata": {},
     "output_type": "execute_result"
    }
   ],
   "source": [
    "print(repr(cb_iouf._d['valid']['cm']))\n",
    "cb_iouf._d['valid']['iou']"
   ]
  },
  {
   "cell_type": "code",
   "execution_count": 48,
   "metadata": {},
   "outputs": [
    {
     "data": {
      "text/plain": [
       "array([[5213074,   46192,   45883,   26826, ...,    5772,   10645,   13852,    3603],\n",
       "       [  15107,  315546,   14039,   49772, ...,     592,    4174,    1475,    1644],\n",
       "       [  50233,   15631, 3418911,    4979, ...,       0,    2479,     380,     334],\n",
       "       [   8630,   27314,    1489,  191164, ...,       0,    2110,     391,      19],\n",
       "       ...,\n",
       "       [      0,       0,       0,       0, ...,       0,       0,       0,       0],\n",
       "       [      0,       0,       0,       0, ...,       0,       0,       0,       0],\n",
       "       [      0,       0,       0,       0, ...,       0,       0,       0,       0],\n",
       "       [      0,       0,       0,       0, ...,       0,       0,       0,       0]], dtype=uint64)"
      ]
     },
     "execution_count": 48,
     "metadata": {},
     "output_type": "execute_result"
    }
   ],
   "source": [
    "cb_iouf._d['valid']['cm']"
   ]
  },
  {
   "cell_type": "code",
   "execution_count": 49,
   "metadata": {},
   "outputs": [
    {
     "data": {
      "text/plain": [
       "array([7.884728e-01, 3.531766e-01, 9.397151e-01, 3.393994e-01, 2.508623e-18, 1.921555e-01, 3.584746e-02, 3.390090e-01,\n",
       "       3.941198e-02, 9.072681e-18, 6.200569e-02, 1.622007e-17, 2.669728e-17, 8.308270e-18, 3.822776e-17, 9.639483e-17,\n",
       "       1.401935e-16, 3.400667e-17, 4.517528e-17, 8.165265e-17])"
      ]
     },
     "execution_count": 49,
     "metadata": {},
     "output_type": "execute_result"
    }
   ],
   "source": [
    "cb_iouf._d['valid']['iou_per_class']"
   ]
  },
  {
   "cell_type": "code",
   "execution_count": 50,
   "metadata": {},
   "outputs": [
    {
     "data": {
      "text/plain": [
       "0.15445967805865574"
      ]
     },
     "execution_count": 50,
     "metadata": {},
     "output_type": "execute_result"
    }
   ],
   "source": [
    "cb_iouf._d['valid']['iou']"
   ]
  }
 ],
 "metadata": {
  "kernelspec": {
   "display_name": "Python 3",
   "language": "python",
   "name": "python3"
  },
  "language_info": {
   "codemirror_mode": {
    "name": "ipython",
    "version": 3
   },
   "file_extension": ".py",
   "mimetype": "text/x-python",
   "name": "python",
   "nbconvert_exporter": "python",
   "pygments_lexer": "ipython3",
   "version": "3.6.8"
  },
  "toc": {
   "base_numbering": 1,
   "nav_menu": {},
   "number_sections": true,
   "sideBar": true,
   "skip_h1_title": false,
   "title_cell": "Table of Contents",
   "title_sidebar": "Contents",
   "toc_cell": true,
   "toc_position": {
    "height": "1124px",
    "left": "100px",
    "top": "111.133px",
    "width": "223px"
   },
   "toc_section_display": true,
   "toc_window_display": true
  }
 },
 "nbformat": 4,
 "nbformat_minor": 2
}
