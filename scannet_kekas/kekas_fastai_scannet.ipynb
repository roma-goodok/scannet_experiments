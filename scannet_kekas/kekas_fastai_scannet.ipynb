{
 "cells": [
  {
   "cell_type": "code",
   "execution_count": 1,
   "metadata": {},
   "outputs": [],
   "source": [
    "import os\n",
    "os.environ[\"CUDA_VISIBLE_DEVICES\"] = \"1\"\n",
    "#os.environ[\"CUDA_VISIBLE_DEVICES\"] = \"0,1\""
   ]
  },
  {
   "cell_type": "code",
   "execution_count": 2,
   "metadata": {},
   "outputs": [
    {
     "name": "stderr",
     "output_type": "stream",
     "text": [
      "/home/roma/.virtualenvs/aseg_torch1/lib/python3.6/site-packages/kekas/keker.py:9: UserWarning: Error 'No module named 'apex''' during importing apex library. To use mixed precison you should install it from https://github.com/NVIDIA/apex\n",
      "  warnings.warn(f\"Error '{e}'' during importing apex library. To use mixed precison\"\n"
     ]
    }
   ],
   "source": [
    "import os\n",
    "from pathlib import Path\n",
    "\n",
    "#import cv2\n",
    "\n",
    "import pandas as pd\n",
    "import numpy as np\n",
    "\n",
    "#from sklearn.model_selection import train_test_split\n",
    "#from pdb import set_trace as st\n",
    "\n",
    "#import pretrainedmodels as pm\n",
    "\n",
    "import torch\n",
    "import torch.nn as nn\n",
    "from torch.utils.data import DataLoader\n",
    "from torchvision import transforms\n",
    "\n",
    "#from albumentations import Compose, JpegCompression, CLAHE, RandomRotate90, Transpose, ShiftScaleRotate, \\\n",
    "#        Blur, OpticalDistortion, GridDistortion, HueSaturationValue, Flip, VerticalFlip\n",
    "\n",
    "from kekas import Keker, DataOwner, DataKek\n",
    "from kekas.transformations import Transformer, to_torch, normalize\n",
    "from kekas.metrics import accuracy\n",
    "from kekas.modules import Flatten, AdaptiveConcatPool2d\n",
    "from kekas.callbacks import Callback, Callbacks, DebuggerCallback"
   ]
  },
  {
   "cell_type": "code",
   "execution_count": 3,
   "metadata": {},
   "outputs": [],
   "source": [
    "import fastai_sparse # 3D "
   ]
  },
  {
   "cell_type": "code",
   "execution_count": 4,
   "metadata": {},
   "outputs": [],
   "source": [
    "import sparseconvnet as scn\n",
    "\n",
    "from fastai_sparse import utils, visualize\n",
    "from fastai_sparse.utils import log\n",
    "#from fastai_sparse.data import DataSourceConfig, MeshesDataset, SparseDataBunch\n",
    "#from fastai_sparse.learner import SparseModelConfig, Learner\n",
    "#from fastai_sparse.callbacks import TimeLogger, SaveModelCallback, CSVLogger\n",
    "from fastai_sparse.transforms import Transform, Compose\n",
    "\n",
    "from data import merge_fn"
   ]
  },
  {
   "cell_type": "markdown",
   "metadata": {},
   "source": [
    "# Experiment environment and system metrics"
   ]
  },
  {
   "cell_type": "code",
   "execution_count": 5,
   "metadata": {},
   "outputs": [],
   "source": [
    "#import neptune\n",
    "#from neptune_callbacks import NeptuneMonitor"
   ]
  },
  {
   "cell_type": "code",
   "execution_count": 6,
   "metadata": {},
   "outputs": [
    {
     "data": {
      "text/plain": [
       "{'n_epoch': 384, 'max_lr': 2.0, 'wd': 0.0001}"
      ]
     },
     "execution_count": 6,
     "metadata": {},
     "output_type": "execute_result"
    }
   ],
   "source": [
    "params={'n_epoch': 256+128,\n",
    "        'max_lr': 2.0,\n",
    "        'wd':0.0001\n",
    "        }\n",
    "params"
   ]
  },
  {
   "cell_type": "code",
   "execution_count": 7,
   "metadata": {},
   "outputs": [],
   "source": [
    "#with open('NEPTUNE_API_TOKEN.txt','r') as f:\n",
    "#    NEPTUNE_API_TOKEN = f.readline().splitlines()[0]\n",
    "#    \n",
    "#neptune.init(api_token=NEPTUNE_API_TOKEN,\n",
    "#             project_qualified_name='roma-goodok/fastai-sparse-scannet')\n",
    "#\n",
    "## create experiment in the project defined above\n",
    "#exp = neptune.create_experiment(params=params)\n",
    "#print(exp.id)\n",
    "#exp.append_tag('study')\n",
    "#exp.append_tag('kekas')\n",
    "#exp.append_tag('unet24')\n",
    "#exp.append_tag('1cycle')"
   ]
  },
  {
   "cell_type": "code",
   "execution_count": 8,
   "metadata": {},
   "outputs": [
    {
     "name": "stdout",
     "output_type": "stream",
     "text": [
      "Experiment: kekas\n",
      "Logdir: logdir/kekas\n"
     ]
    }
   ],
   "source": [
    "try:\n",
    "    experiment_name = exp.id\n",
    "except Exception as e:\n",
    "    experiment_name = \"kekas\"\n",
    "\n",
    "print(\"Experiment:\", experiment_name)\n",
    "logdir = os.path.join('logdir', experiment_name)\n",
    "Path(logdir).mkdir(parents=True, exist_ok=True)\n",
    "print(\"Logdir:\", logdir)"
   ]
  },
  {
   "cell_type": "code",
   "execution_count": 9,
   "metadata": {},
   "outputs": [
    {
     "name": "stdout",
     "output_type": "stream",
     "text": [
      "virtualenv:     (aseg_torch1) \n",
      "python:         3.6.8\n",
      "nvidia driver:  b'384.130'\n",
      "nvidia cuda:    9.0, V9.0.176\n",
      "cudnn:          7.1.4\n",
      "torch:          1.0.0\n",
      "pandas:         0.24.2\n",
      "kekas:          0.1.17\n",
      "fastai:         1.0.48\n",
      "fastai_sparse:  0.0.4.dev0\n"
     ]
    }
   ],
   "source": [
    "utils.watermark(pandas=True, kekas=True)"
   ]
  },
  {
   "cell_type": "code",
   "execution_count": 10,
   "metadata": {},
   "outputs": [
    {
     "name": "stdout",
     "output_type": "stream",
     "text": [
      "\u001b[33m0704795\u001b[m Updates\r\n",
      "\u001b[33m69d33ec\u001b[m lr_find\r\n",
      "\u001b[33ma24855f\u001b[m Updates\r\n"
     ]
    }
   ],
   "source": [
    "!git log1 -n3"
   ]
  },
  {
   "cell_type": "code",
   "execution_count": 11,
   "metadata": {},
   "outputs": [
    {
     "name": "stdout",
     "output_type": "stream",
     "text": [
      "Fri Apr 19 01:17:38 2019       \r\n",
      "+-----------------------------------------------------------------------------+\r\n",
      "| NVIDIA-SMI 384.130                Driver Version: 384.130                   |\r\n",
      "|-------------------------------+----------------------+----------------------+\r\n",
      "| GPU  Name        Persistence-M| Bus-Id        Disp.A | Volatile Uncorr. ECC |\r\n",
      "| Fan  Temp  Perf  Pwr:Usage/Cap|         Memory-Usage | GPU-Util  Compute M. |\r\n",
      "|===============================+======================+======================|\r\n",
      "|   0  GeForce GTX 108...  Off  | 00000000:28:00.0  On |                  N/A |\r\n",
      "| 18%   59C    P8    25W / 250W |   1183MiB / 11163MiB |     43%      Default |\r\n",
      "+-------------------------------+----------------------+----------------------+\r\n",
      "|   1  GeForce GTX 108...  Off  | 00000000:29:00.0 Off |                  N/A |\r\n",
      "| 30%   61C    P0    80W / 250W |     11MiB / 11172MiB |      0%      Default |\r\n",
      "+-------------------------------+----------------------+----------------------+\r\n",
      "                                                                               \r\n",
      "+-----------------------------------------------------------------------------+\r\n",
      "| Processes:                                                       GPU Memory |\r\n",
      "|  GPU       PID   Type   Process name                             Usage      |\r\n",
      "|=============================================================================|\r\n",
      "|    0       660      G   /usr/lib/firefox/firefox                     365MiB |\r\n",
      "|    0      1442      G   /usr/lib/xorg/Xorg                           407MiB |\r\n",
      "|    0      2538      G   compiz                                       327MiB |\r\n",
      "|    0      7815      G   ...uest-channel-token=11344215528289317648    79MiB |\r\n",
      "+-----------------------------------------------------------------------------+\r\n"
     ]
    }
   ],
   "source": [
    "!nvidia-smi"
   ]
  },
  {
   "cell_type": "code",
   "execution_count": 12,
   "metadata": {},
   "outputs": [
    {
     "name": "stdout",
     "output_type": "stream",
     "text": [
      "Model name:            AMD Ryzen 7 1700 Eight-Core Processor\r\n"
     ]
    }
   ],
   "source": [
    "!lscpu | grep \"Model\""
   ]
  },
  {
   "cell_type": "markdown",
   "metadata": {},
   "source": [
    "## Jupyter notebook display options"
   ]
  },
  {
   "cell_type": "code",
   "execution_count": 13,
   "metadata": {},
   "outputs": [
    {
     "data": {
      "text/html": [
       "<style>.container { width:70% !important; }</style>"
      ],
      "text/plain": [
       "<IPython.core.display.HTML object>"
      ]
     },
     "metadata": {},
     "output_type": "display_data"
    }
   ],
   "source": [
    "utils.wide_notebook()\n",
    "# uncomment this lines if you want switch off interactive and save visaulisation as screenshoots:\n",
    "# For rendering run command in terminal:    `chromium-browser --remote-debugging-port=9222`\n",
    "if  True:\n",
    "    visualize.options.interactive = False\n",
    "    visualize.options.save_images = True\n",
    "    visualize.options.verbose = True\n",
    "    visualize.options.filename_pattern_image = Path('images', experiment_name, 'fig_{fig_number}')"
   ]
  },
  {
   "cell_type": "markdown",
   "metadata": {},
   "source": [
    "# Dataset creation"
   ]
  },
  {
   "cell_type": "markdown",
   "metadata": {},
   "source": [
    "## Downloading"
   ]
  },
  {
   "cell_type": "markdown",
   "metadata": {},
   "source": [
    "see how download and preprocess data by the following link from fastai_sparse library: https://github.com/goodok/fastai_sparse/tree/master/examples/scannet/data"
   ]
  },
  {
   "cell_type": "code",
   "execution_count": 14,
   "metadata": {},
   "outputs": [
    {
     "data": {
      "text/plain": [
       "['scene0000_01.merged.ply']"
      ]
     },
     "execution_count": 14,
     "metadata": {},
     "output_type": "execute_result"
    }
   ],
   "source": [
    "SOURCE_DIR = Path('data', 'scannet_merged_ply')\n",
    "assert SOURCE_DIR.exists(), \"Run prepare_data.ipynb\"\n",
    "\n",
    "definition_of_spliting_dir = Path('data', 'ScanNet_Tasks_Benchmark')\n",
    "assert definition_of_spliting_dir.exists()\n",
    "\n",
    "\n",
    "os.listdir(SOURCE_DIR / 'scene0000_01')"
   ]
  },
  {
   "cell_type": "code",
   "execution_count": 15,
   "metadata": {},
   "outputs": [],
   "source": [
    "def find_files(path, ext='merged.ply'):\n",
    "    pattern = str(path / '*' / ('*' + ext))\n",
    "    fnames = glob.glob(pattern)\n",
    "    return fnames\n",
    "\n",
    "def get_df_list(verbose=0):\n",
    "    # train /valid / test splits\n",
    "    fn_lists = {}\n",
    "\n",
    "    fn_lists['train'] = definition_of_spliting_dir / 'scannetv1_train.txt'\n",
    "    fn_lists['valid'] = definition_of_spliting_dir / 'scannetv1_val.txt'\n",
    "    fn_lists['test'] = definition_of_spliting_dir / 'scannetv1_test.txt'\n",
    "\n",
    "    for datatype in ['train', 'valid', 'test']:\n",
    "        assert fn_lists[datatype].exists(), datatype\n",
    "\n",
    "    dfs = {}\n",
    "    total = 0\n",
    "    for datatype in ['train', 'valid', 'test']:\n",
    "        df = pd.read_csv(fn_lists[datatype], header=None, names=['example_id'])\n",
    "        df = df.assign(datatype=datatype)\n",
    "        df = df.assign(subdir=df.example_id)\n",
    "        df = df.sort_values('example_id')\n",
    "        dfs[datatype] = df\n",
    "\n",
    "        if verbose:\n",
    "            print(f\"{datatype:5} counts: {len(df):>4}\")\n",
    "        \n",
    "        total += len(df)\n",
    "    if verbose:\n",
    "        print(f\"total:     {total}\")\n",
    "    return dfs"
   ]
  },
  {
   "cell_type": "code",
   "execution_count": 16,
   "metadata": {},
   "outputs": [
    {
     "name": "stdout",
     "output_type": "stream",
     "text": [
      "train counts: 1045\n",
      "valid counts:  156\n",
      "test  counts:  312\n",
      "total:     1513\n"
     ]
    }
   ],
   "source": [
    "df_list = get_df_list(verbose=1)"
   ]
  },
  {
   "cell_type": "code",
   "execution_count": 17,
   "metadata": {},
   "outputs": [
    {
     "data": {
      "text/html": [
       "<div>\n",
       "<style scoped>\n",
       "    .dataframe tbody tr th:only-of-type {\n",
       "        vertical-align: middle;\n",
       "    }\n",
       "\n",
       "    .dataframe tbody tr th {\n",
       "        vertical-align: top;\n",
       "    }\n",
       "\n",
       "    .dataframe thead th {\n",
       "        text-align: right;\n",
       "    }\n",
       "</style>\n",
       "<table border=\"1\" class=\"dataframe\">\n",
       "  <thead>\n",
       "    <tr style=\"text-align: right;\">\n",
       "      <th></th>\n",
       "      <th>example_id</th>\n",
       "      <th>datatype</th>\n",
       "      <th>subdir</th>\n",
       "    </tr>\n",
       "  </thead>\n",
       "  <tbody>\n",
       "    <tr>\n",
       "      <th>827</th>\n",
       "      <td>scene0000_00</td>\n",
       "      <td>train</td>\n",
       "      <td>scene0000_00</td>\n",
       "    </tr>\n",
       "    <tr>\n",
       "      <th>828</th>\n",
       "      <td>scene0000_01</td>\n",
       "      <td>train</td>\n",
       "      <td>scene0000_01</td>\n",
       "    </tr>\n",
       "    <tr>\n",
       "      <th>829</th>\n",
       "      <td>scene0000_02</td>\n",
       "      <td>train</td>\n",
       "      <td>scene0000_02</td>\n",
       "    </tr>\n",
       "    <tr>\n",
       "      <th>496</th>\n",
       "      <td>scene0001_00</td>\n",
       "      <td>train</td>\n",
       "      <td>scene0001_00</td>\n",
       "    </tr>\n",
       "    <tr>\n",
       "      <th>497</th>\n",
       "      <td>scene0001_01</td>\n",
       "      <td>train</td>\n",
       "      <td>scene0001_01</td>\n",
       "    </tr>\n",
       "  </tbody>\n",
       "</table>\n",
       "</div>"
      ],
      "text/plain": [
       "       example_id datatype        subdir\n",
       "827  scene0000_00    train  scene0000_00\n",
       "828  scene0000_01    train  scene0000_01\n",
       "829  scene0000_02    train  scene0000_02\n",
       "496  scene0001_00    train  scene0001_00\n",
       "497  scene0001_01    train  scene0001_01"
      ]
     },
     "execution_count": 17,
     "metadata": {},
     "output_type": "execute_result"
    }
   ],
   "source": [
    "df_list['train'].head()"
   ]
  },
  {
   "cell_type": "code",
   "execution_count": null,
   "metadata": {},
   "outputs": [
    {
     "data": {
      "text/plain": [
       "['scene0000_00.merged.ply']"
      ]
     },
     "execution_count": 18,
     "metadata": {},
     "output_type": "execute_result"
    }
   ],
   "source": [
    "os.listdir(os.path.join(SOURCE_DIR, 'scene0000_00'))"
   ]
  },
  {
   "cell_type": "markdown",
   "metadata": {},
   "source": [
    "# Augmentation"
   ]
  },
  {
   "cell_type": "code",
   "execution_count": null,
   "metadata": {},
   "outputs": [],
   "source": [
    "from fastai_sparse.data_items  import MeshItem, PointsItem\n",
    "from fastai_sparse.learner import SparseModelConfig\n",
    "import transforms as T"
   ]
  },
  {
   "cell_type": "code",
   "execution_count": null,
   "metadata": {},
   "outputs": [],
   "source": [
    "# at first we need to create a reader function that will define how image will be opened\n",
    "def reader_fn(i, row):\n",
    "    fn = SOURCE_DIR / row['subdir'] / f'{row[\"example_id\"]}.merged.ply'\n",
    "    m = MeshItem.from_file(fn, label_field='label')\n",
    "    return m"
   ]
  },
  {
   "cell_type": "code",
   "execution_count": null,
   "metadata": {},
   "outputs": [
    {
     "name": "stdout",
     "output_type": "stream",
     "text": [
      "MeshItem (scene0000_00.merged.ply)\n",
      "vertices:                shape: (81369, 3)            dtype: float64        min:   -0.01657,  max:    8.74040,  mean:    3.19051\n",
      "faces:                   shape: (153587, 3)           dtype: int64          min:          0,  max:      81368,  mean: 40549.68796\n",
      "colors:                  shape: (81369, 4)            dtype: uint8          min:    1.00000,  max:  255.00000,  mean:  145.80430\n",
      "labels:                  shape: (81369,)              dtype: uint16         min:    0.00000,  max:  230.00000,  mean:   12.97057\n",
      "Colors from vertices\n",
      "Labels from vertices\n"
     ]
    }
   ],
   "source": [
    "m = reader_fn(0, df_list['train'].iloc[0])\n",
    "m.describe()"
   ]
  },
  {
   "cell_type": "code",
   "execution_count": null,
   "metadata": {},
   "outputs": [
    {
     "data": {
      "text/plain": [
       "(True, True)"
      ]
     },
     "execution_count": 22,
     "metadata": {},
     "output_type": "execute_result"
    }
   ],
   "source": [
    "m.is_colors_from_vertices, m.is_labels_from_vertices"
   ]
  },
  {
   "cell_type": "code",
   "execution_count": null,
   "metadata": {},
   "outputs": [],
   "source": [
    "# Map relevant classes to {0,1,...,19}, and ignored classes to -100\n",
    "remapper = np.ones(3000, dtype=np.int32) * (-100)\n",
    "for i, x in enumerate([1,2,3,4,5,6,7,8,9,10,11,12,14,16,24,28,33,34,36,39]):\n",
    "    remapper[x] = i"
   ]
  },
  {
   "cell_type": "code",
   "execution_count": null,
   "metadata": {},
   "outputs": [],
   "source": [
    "PRE_TFMS = [T.to_points_cloud(method='vertices', normals=False), \n",
    "            T.remap_labels(remapper=remapper, inplace=False),\n",
    "            T.colors_normalize(),\n",
    "            T.normalize_spatial(),\n",
    "           ]\n",
    "\n",
    "_scale = 20\n",
    "\n",
    "AUGS_TRAIN = [\n",
    "    T.noise_affine(amplitude=0.1),\n",
    "    T.flip_x(p=0.5),\n",
    "    T.scale(scale=_scale),\n",
    "    T.rotate_XY(),\n",
    "    \n",
    "    T.elastic(gran=6 * _scale // 50, mag=40 * _scale / 50),\n",
    "    T.elastic(gran=20 * _scale // 50, mag=160 * _scale / 50),\n",
    "    \n",
    "    T.specific_translate(full_scale=4096),\n",
    "    T.crop_points(low=0, high=4096),\n",
    "    T.colors_noise(amplitude=0.1),\n",
    "]\n",
    "\n",
    "AUGS_VALID = [\n",
    "    T.noise_affine(amplitude=0.1),\n",
    "    T.flip_x(p=0.5),\n",
    "    T.scale(scale=_scale),\n",
    "    T.rotate_XY(),\n",
    "\n",
    "    T.translate(offset=4096 / 2),\n",
    "    T.rand_translate(offset=(-2, 2, 3)),  # low, high, dimention\n",
    "    \n",
    "    T.specific_translate(full_scale=4096),\n",
    "    T.crop_points(low=0, high=4096),\n",
    "    T.colors_noise(amplitude=0.1),\n",
    "        \n",
    "    ]\n",
    "\n",
    "SPARSE_TFMS = [\n",
    "    T.merge_features(ones=False, colors=True, normals=False),\n",
    "    T.to_sparse_voxels(),\n",
    "]\n",
    "\n",
    "\n",
    "# reimplement to_torch\n",
    "def _to_torch(x):\n",
    "    x.coords \n",
    "    x.features\n",
    "    x.labels\n",
    "    \n",
    "    return x\n",
    "\n",
    "# to_torch = Transform(_to_torch)\n",
    "\n"
   ]
  },
  {
   "cell_type": "code",
   "execution_count": null,
   "metadata": {},
   "outputs": [
    {
     "data": {
      "text/plain": [
       "functools.partial(<function SparseDataBunch.merge_fn at 0x7f4e32eaf1e0>, keys_lists=['id', 'labels_raw', 'filtred_mask', 'random_seed', 'num_points'], separate_labels=False)"
      ]
     },
     "execution_count": 25,
     "metadata": {},
     "output_type": "execute_result"
    }
   ],
   "source": [
    "from data import merge_fn\n",
    "merge_fn"
   ]
  },
  {
   "cell_type": "code",
   "execution_count": null,
   "metadata": {},
   "outputs": [],
   "source": [
    "def get_transforms(dataset_key):\n",
    "        \n",
    "    return  Compose(PRE_TFMS + AUGS_TRAIN + SPARSE_TFMS), Compose(PRE_TFMS + AUGS_VALID + SPARSE_TFMS)"
   ]
  },
  {
   "cell_type": "markdown",
   "metadata": {},
   "source": [
    "## DataKeks creation"
   ]
  },
  {
   "cell_type": "code",
   "execution_count": null,
   "metadata": {},
   "outputs": [],
   "source": [
    "train_df = df_list['train']\n",
    "val_df = df_list['valid']\n",
    "\n",
    "# now let's create DataKeks\n",
    "train_tfms, val_tfms = get_transforms(\"mesh\")\n",
    "\n",
    "train_dk = DataKek(df=train_df, reader_fn=reader_fn, transforms=train_tfms)\n",
    "val_dk = DataKek(df=val_df, reader_fn=reader_fn, transforms=val_tfms)"
   ]
  },
  {
   "cell_type": "code",
   "execution_count": null,
   "metadata": {},
   "outputs": [
    {
     "name": "stdout",
     "output_type": "stream",
     "text": [
      "id: scene0000_00.merged\n",
      "coords                   shape: (81369, 3)            dtype: int64          min:        853,  max:       3245,  mean: 2144.99622\n",
      "features                 shape: (81369, 3)            dtype: float32        min:   -1.01376,  max:    1.09562,  mean:   -0.10789\n",
      "x                        shape: (81369,)              dtype: int64          min:       3043,  max:       3245,  mean: 3138.91456\n",
      "y                        shape: (81369,)              dtype: int64          min:        853,  max:       1057,  mean:  954.71151\n",
      "z                        shape: (81369,)              dtype: int64          min:       2311,  max:       2391,  mean: 2341.36260\n",
      "labels                   shape: (81369,)              dtype: int64          min:       -100,  max:         17,  mean:  -48.51506\n",
      "voxels: 52053\n",
      "points / voxels: 1.5631952048873263\n"
     ]
    },
    {
     "data": {
      "text/html": [
       "Saved to file: <a href='images/kekas/fig_1.png' target='_blank'>images/kekas/fig_1.png</a>"
      ],
      "text/plain": [
       "/media/Linux_3Tb/p/scannet_experiments/scannet_kekas/images/kekas/fig_1.png"
      ]
     },
     "metadata": {},
     "output_type": "display_data"
    },
    {
     "data": {
      "image/png": "[encoded data removed]",
      "text/plain": [
       "<IPython.core.display.Image object>"
      ]
     },
     "execution_count": 28,
     "metadata": {},
     "output_type": "execute_result"
    }
   ],
   "source": [
    "b = train_dk[0]\n",
    "b.describe()\n",
    "b.show()"
   ]
  },
  {
   "cell_type": "markdown",
   "metadata": {},
   "source": [
    "## DataLoaders"
   ]
  },
  {
   "cell_type": "code",
   "execution_count": null,
   "metadata": {},
   "outputs": [],
   "source": [
    "# and DataLoaders\n",
    "#batch_size = 32\n",
    "#workers = \n",
    "\n",
    "train_dl = DataLoader(train_dk, batch_size=32, num_workers=8, shuffle=True, drop_last=True, collate_fn=merge_fn, pin_memory=False)\n",
    "val_dl = DataLoader(val_dk, batch_size=2, num_workers=2, shuffle=False, collate_fn=merge_fn, pin_memory=False)"
   ]
  },
  {
   "cell_type": "code",
   "execution_count": null,
   "metadata": {},
   "outputs": [
    {
     "data": {
      "text/plain": [
       "False"
      ]
     },
     "execution_count": 30,
     "metadata": {},
     "output_type": "execute_result"
    }
   ],
   "source": [
    "train_dl.pin_memory"
   ]
  },
  {
   "cell_type": "code",
   "execution_count": null,
   "metadata": {},
   "outputs": [
    {
     "data": {
      "text/plain": [
       "False"
      ]
     },
     "execution_count": 31,
     "metadata": {},
     "output_type": "execute_result"
    }
   ],
   "source": [
    "val_dl.pin_memory"
   ]
  },
  {
   "cell_type": "code",
   "execution_count": 28,
   "metadata": {
    "deletable": false,
    "editable": false,
    "run_control": {
     "frozen": true
    }
   },
   "outputs": [],
   "source": [
    "for i, batch in enumerate(train_dl):\n",
    "    break"
   ]
  },
  {
   "cell_type": "code",
   "execution_count": 29,
   "metadata": {
    "deletable": false,
    "editable": false,
    "run_control": {
     "frozen": true
    }
   },
   "outputs": [
    {
     "data": {
      "text/plain": [
       "dict"
      ]
     },
     "execution_count": 29,
     "metadata": {},
     "output_type": "execute_result"
    }
   ],
   "source": [
    "type(batch)"
   ]
  },
  {
   "cell_type": "code",
   "execution_count": 30,
   "metadata": {
    "deletable": false,
    "editable": false,
    "run_control": {
     "frozen": true
    }
   },
   "outputs": [
    {
     "data": {
      "text/plain": [
       "{'coords': tensor([[3103, 1525, 1590,    0],\n",
       "         [3103, 1525, 1591,    0],\n",
       "         [3103, 1526, 1591,    0],\n",
       "         ...,\n",
       "         [  44, 3057, 3422,   31],\n",
       "         [  44, 3057, 3422,   31],\n",
       "         [  44, 3057, 3422,   31]]),\n",
       " 'features': tensor([[-0.0393, -0.1166, -0.2235],\n",
       "         [-0.0549, -0.1323, -0.2549],\n",
       "         [-0.0706, -0.1479, -0.3020],\n",
       "         ...,\n",
       "         [-0.4921, -0.5751, -0.4440],\n",
       "         [-0.4999, -0.5751, -0.4597],\n",
       "         [-0.2411, -0.3242, -0.1930]]),\n",
       " 'labels': tensor([0, 0, 0,  ..., 0, 0, 0]),\n",
       " 'id': ['scene0470_00.merged',\n",
       "  'scene0662_00.merged',\n",
       "  'scene0235_00.merged',\n",
       "  'scene0654_01.merged',\n",
       "  'scene0576_02.merged',\n",
       "  'scene0368_00.merged',\n",
       "  'scene0360_00.merged',\n",
       "  'scene0099_01.merged',\n",
       "  'scene0254_00.merged',\n",
       "  'scene0031_01.merged',\n",
       "  'scene0511_01.merged',\n",
       "  'scene0150_01.merged',\n",
       "  'scene0121_02.merged',\n",
       "  'scene0501_01.merged',\n",
       "  'scene0128_00.merged',\n",
       "  'scene0369_02.merged',\n",
       "  'scene0649_00.merged',\n",
       "  'scene0569_00.merged',\n",
       "  'scene0449_02.merged',\n",
       "  'scene0673_00.merged',\n",
       "  'scene0380_01.merged',\n",
       "  'scene0302_00.merged',\n",
       "  'scene0199_00.merged',\n",
       "  'scene0601_00.merged',\n",
       "  'scene0399_01.merged',\n",
       "  'scene0444_00.merged',\n",
       "  'scene0029_01.merged',\n",
       "  'scene0348_01.merged',\n",
       "  'scene0563_00.merged',\n",
       "  'scene0166_00.merged',\n",
       "  'scene0210_00.merged',\n",
       "  'scene0582_01.merged'],\n",
       " 'labels_raw': [array([0, 0, 0, 0, ..., 0, 4, 4, 4], dtype=int32),\n",
       "  array([-100, -100, -100, -100, ...,    0,    0,    0, -100], dtype=int32),\n",
       "  array([-100, -100, -100, -100, ..., -100, -100, -100, -100], dtype=int32),\n",
       "  array([-100, -100, -100, -100, ..., -100, -100, -100, -100], dtype=int32),\n",
       "  array([  17, -100, -100, -100, ..., -100, -100, -100, -100], dtype=int32),\n",
       "  array([1, 1, 1, 1, ..., 0, 0, 0, 0], dtype=int32),\n",
       "  array([0, 0, 2, 0, ..., 0, 0, 0, 0], dtype=int32),\n",
       "  array([   0,    0,    0,    0, ..., -100, -100, -100, -100], dtype=int32),\n",
       "  array([0, 0, 0, 0, ..., 0, 0, 0, 0], dtype=int32),\n",
       "  array([   2,    2,    2,    2, ..., -100, -100, -100, -100], dtype=int32),\n",
       "  array([-100, -100, -100, -100, ..., -100, -100, -100, -100], dtype=int32),\n",
       "  array([-100, -100,    2,    2, ...,    0,    0,    0,    0], dtype=int32),\n",
       "  array([-100, -100, -100, -100, ..., -100, -100, -100, -100], dtype=int32),\n",
       "  array([-100, -100, -100, -100, ..., -100, -100, -100, -100], dtype=int32),\n",
       "  array([   2,    2,    2,    2, ..., -100, -100, -100, -100], dtype=int32),\n",
       "  array([2, 2, 2, 2, ..., 0, 0, 0, 0], dtype=int32),\n",
       "  array([-100, -100, -100, -100, ...,    0,    0,    0, -100], dtype=int32),\n",
       "  array([-100, -100, -100, -100, ...,    0,    0,    0,    0], dtype=int32),\n",
       "  array([-100, -100, -100, -100, ..., -100, -100, -100, -100], dtype=int32),\n",
       "  array([-100, -100, -100, -100, ..., -100,    0,    0,    0], dtype=int32),\n",
       "  array([-100, -100, -100, -100, ..., -100, -100, -100, -100], dtype=int32),\n",
       "  array([2, 2, 2, 2, ..., 0, 0, 0, 0], dtype=int32),\n",
       "  array([2, 2, 2, 2, ..., 0, 0, 0, 0], dtype=int32),\n",
       "  array([-100, -100, -100, -100, ...,    0,    0,    0,    0], dtype=int32),\n",
       "  array([-100, -100, -100, -100, ...,    2,    2,    2,    2], dtype=int32),\n",
       "  array([6, 6, 6, 6, ..., 0, 0, 0, 0], dtype=int32),\n",
       "  array([-100, -100, -100, -100, ..., -100,    0,    0,    0], dtype=int32),\n",
       "  array([-100, -100, -100, -100, ...,    0,    0,    0,    0], dtype=int32),\n",
       "  array([-100, -100, -100, -100, ..., -100, -100, -100, -100], dtype=int32),\n",
       "  array([   2, -100, -100, -100, ..., -100, -100,    0,    0], dtype=int32),\n",
       "  array([0, 0, 6, 6, ..., 2, 2, 2, 2], dtype=int32),\n",
       "  array([7, 7, 7, 7, ..., 0, 0, 0, 0], dtype=int32)],\n",
       " 'filtred_mask': [array([ True,  True,  True,  True, ...,  True,  True,  True,  True]),\n",
       "  array([ True,  True,  True,  True, ...,  True,  True,  True,  True]),\n",
       "  array([ True,  True,  True,  True, ...,  True,  True,  True,  True]),\n",
       "  array([ True,  True,  True,  True, ...,  True,  True,  True,  True]),\n",
       "  array([ True,  True,  True,  True, ...,  True,  True,  True,  True]),\n",
       "  array([ True,  True,  True,  True, ...,  True,  True,  True,  True]),\n",
       "  array([ True,  True,  True,  True, ...,  True,  True,  True,  True]),\n",
       "  array([ True,  True,  True,  True, ...,  True,  True,  True,  True]),\n",
       "  array([ True,  True,  True,  True, ...,  True,  True,  True,  True]),\n",
       "  array([ True,  True,  True,  True, ...,  True,  True,  True,  True]),\n",
       "  array([ True,  True,  True,  True, ...,  True,  True,  True,  True]),\n",
       "  array([ True,  True,  True,  True, ...,  True,  True,  True,  True]),\n",
       "  array([ True,  True,  True,  True, ...,  True,  True,  True,  True]),\n",
       "  array([ True,  True,  True,  True, ...,  True,  True,  True,  True]),\n",
       "  array([ True,  True,  True,  True, ...,  True,  True,  True,  True]),\n",
       "  array([ True,  True,  True,  True, ...,  True,  True,  True,  True]),\n",
       "  array([ True,  True,  True,  True, ...,  True,  True,  True,  True]),\n",
       "  array([ True,  True,  True,  True, ...,  True,  True,  True,  True]),\n",
       "  array([ True,  True,  True,  True, ...,  True,  True,  True,  True]),\n",
       "  array([ True,  True,  True,  True, ...,  True,  True,  True,  True]),\n",
       "  array([ True,  True,  True,  True, ...,  True,  True,  True,  True]),\n",
       "  array([ True,  True,  True,  True, ...,  True,  True,  True,  True]),\n",
       "  array([ True,  True,  True,  True, ...,  True,  True,  True,  True]),\n",
       "  array([ True,  True,  True,  True, ...,  True,  True,  True,  True]),\n",
       "  array([ True,  True,  True,  True, ...,  True,  True,  True,  True]),\n",
       "  array([ True,  True,  True,  True, ...,  True,  True,  True,  True]),\n",
       "  array([ True,  True,  True,  True, ...,  True,  True,  True,  True]),\n",
       "  array([ True,  True,  True,  True, ...,  True,  True,  True,  True]),\n",
       "  array([ True,  True,  True,  True, ...,  True,  True,  True,  True]),\n",
       "  array([ True,  True,  True,  True, ...,  True,  True,  True,  True]),\n",
       "  array([ True,  True,  True,  True, ...,  True,  True,  True,  True]),\n",
       "  array([ True,  True,  True,  True, ...,  True,  True,  True,  True])],\n",
       " 'random_seed': ['182479695_340',\n",
       "  '1292740222_264',\n",
       "  '1741434149_312',\n",
       "  '2823988168_140',\n",
       "  '649861767_228',\n",
       "  '2941211774_112',\n",
       "  '3379533227_440',\n",
       "  '296525474_80',\n",
       "  '207020725_440',\n",
       "  '497598068_40',\n",
       "  '3168221195_300',\n",
       "  '2881255566_336',\n",
       "  '806421572_224',\n",
       "  '1119037316_116',\n",
       "  '2052385399_276',\n",
       "  '1697349261_388',\n",
       "  '3481073715_56',\n",
       "  '225097249_100',\n",
       "  '157631320_492',\n",
       "  '100342_396',\n",
       "  '1848795919_364',\n",
       "  '2102817586_576',\n",
       "  '2361204992_576',\n",
       "  '3008858478_444',\n",
       "  '2221092942_92',\n",
       "  '3021209329_532',\n",
       "  '1617108327_108',\n",
       "  '3246590741_108',\n",
       "  '1593665656_304',\n",
       "  '3184915984_348',\n",
       "  '598897525_52',\n",
       "  '940621256_364'],\n",
       " 'num_points': [67465,\n",
       "  46821,\n",
       "  191926,\n",
       "  187822,\n",
       "  130258,\n",
       "  100591,\n",
       "  81298,\n",
       "  170918,\n",
       "  119777,\n",
       "  235122,\n",
       "  83484,\n",
       "  77935,\n",
       "  98699,\n",
       "  111898,\n",
       "  108008,\n",
       "  153044,\n",
       "  70554,\n",
       "  142057,\n",
       "  59822,\n",
       "  254321,\n",
       "  164540,\n",
       "  292241,\n",
       "  170183,\n",
       "  209655,\n",
       "  84554,\n",
       "  25481,\n",
       "  41212,\n",
       "  71272,\n",
       "  129766,\n",
       "  225624,\n",
       "  114103,\n",
       "  166400]}"
      ]
     },
     "execution_count": 30,
     "metadata": {},
     "output_type": "execute_result"
    }
   ],
   "source": [
    "batch"
   ]
  },
  {
   "cell_type": "code",
   "execution_count": 31,
   "metadata": {
    "deletable": false,
    "editable": false,
    "run_control": {
     "frozen": true
    }
   },
   "outputs": [
    {
     "data": {
      "text/plain": [
       "(4186851, 4186851)"
      ]
     },
     "execution_count": 31,
     "metadata": {},
     "output_type": "execute_result"
    }
   ],
   "source": [
    "len(batch['coords']), sum(batch['num_points'])"
   ]
  },
  {
   "cell_type": "markdown",
   "metadata": {},
   "source": [
    "# Model"
   ]
  },
  {
   "cell_type": "code",
   "execution_count": null,
   "metadata": {},
   "outputs": [
    {
     "data": {
      "text/plain": [
       "SparseModelConfig;\n",
       "   spatial_size: 4096\n",
       "   dimension: 3\n",
       "   block_reps: 1\n",
       "   m: 16\n",
       "   num_planes: [16, 32, 48, 64, 80, 96, 112]\n",
       "   residual_blocks: False\n",
       "   num_classes: 20\n",
       "   num_input_features: 3\n",
       "   mode: 4\n",
       "   downsample: [2, 2]\n",
       "   bias: False"
      ]
     },
     "execution_count": 32,
     "metadata": {},
     "output_type": "execute_result"
    }
   ],
   "source": [
    "# spatial_size  is full_scale\n",
    "model_config = SparseModelConfig(spatial_size=4096, num_classes=20, num_input_features=3, mode=4,\n",
    "                                 m=16, num_planes_coeffs=[1, 2, 3, 4, 5, 6, 7])\n",
    "model_config"
   ]
  },
  {
   "cell_type": "code",
   "execution_count": null,
   "metadata": {},
   "outputs": [],
   "source": [
    "class Model(nn.Module):\n",
    "    def __init__(self, cfg):\n",
    "        nn.Module.__init__(self)\n",
    "        self.sparseModel = scn.Sequential(\n",
    "            scn.InputLayer(cfg.dimension, cfg.spatial_size, mode=cfg.mode),\n",
    "            scn.SubmanifoldConvolution(cfg.dimension, nIn=cfg.num_input_features, nOut=cfg.m, filter_size=3, bias=cfg.bias),\n",
    "            scn.UNet(cfg.dimension, cfg.block_reps, cfg.num_planes, residual_blocks=cfg.residual_blocks, downsample=cfg.downsample),\n",
    "            scn.BatchNormReLU(cfg.m),\n",
    "            scn.OutputLayer(cfg.dimension),\n",
    "        )\n",
    "        self.linear = nn.Linear(cfg.m, cfg.num_classes)\n",
    "\n",
    "    def forward(self, xb):\n",
    "        x = [xb['coords'], xb['features']]\n",
    "        x = self.sparseModel(x)\n",
    "        x = self.linear(x)\n",
    "        return x\n",
    "\n",
    "model = Model(model_config)"
   ]
  },
  {
   "cell_type": "markdown",
   "metadata": {},
   "source": [
    "## Initialization"
   ]
  },
  {
   "cell_type": "code",
   "execution_count": null,
   "metadata": {},
   "outputs": [],
   "source": [
    "# the three whales of your pipelane are: the data, the model and the loss (hi, Jeremy)\n",
    "\n",
    "# the data is represented in Kekas by DataOwner. It is a namedtuple with three fields:\n",
    "# 'train_dl', 'val_dl', 'test_dl'\n",
    "# For training process we will need at least two of them, and we can skip 'test_dl' for now\n",
    "# so we will initialize it with `None` value.\n",
    "dataowner = DataOwner(train_dl, val_dl, None)\n",
    "\n",
    "# model is just a pytorch nn.Module, that we created vefore\n",
    "#model = Net(num_classes=2)\n",
    "\n",
    "# loss or criterion is also a pytorch nn.Module. For multiloss scenarios it can be a list of nn.Modules\n",
    "# for our simple example let's use the standart cross entopy criterion\n",
    "criterion = nn.CrossEntropyLoss()"
   ]
  },
  {
   "cell_type": "code",
   "execution_count": null,
   "metadata": {},
   "outputs": [],
   "source": [
    "# Also we need to specify, what model will do with each batch of data on each iteration\n",
    "# We should define a `step_fn` function\n",
    "# The code below repeats a `keker.default_step_fn` code to provide you with a concept of step function\n",
    "\n",
    "def step_fn(model: torch.nn.Module,\n",
    "            batch: torch.Tensor) -> torch.Tensor:\n",
    "    \"\"\"Determine what your model will do with your data.\n",
    "\n",
    "    Args:\n",
    "        model: the pytorch module to pass input in\n",
    "        batch: the batch of data from the DataLoader\n",
    "\n",
    "    Returns:\n",
    "        The models forward pass results\n",
    "    \"\"\"\n",
    "    \n",
    "    # you could define here whatever logic you want\n",
    "    inp = batch  # here we get an \"image\" from our dataset\n",
    "    return model(inp)"
   ]
  },
  {
   "cell_type": "code",
   "execution_count": null,
   "metadata": {},
   "outputs": [],
   "source": [
    "# previous preparations was mostly out of scope of Kekas library (except DataKeks creation)\n",
    "# Now let's dive into kekas a little bit\n",
    "\n",
    "# firstly, we create a Keker - the core Kekas class, that provides all the keks for your pipeline\n",
    "keker = Keker(model=model,\n",
    "              dataowner=dataowner,\n",
    "              criterion=criterion,\n",
    "              step_fn=step_fn,                    # previosly defined step function\n",
    "              target_key=\"labels\",                 # remember, we defined it in the reader_fn for DataKek?              \n",
    "              opt=torch.optim.SGD,               # optimizer class. if note specifiyng, \n",
    "                                                  # an SGD is using by default\n",
    "              opt_params={\"weight_decay\": params['wd']})  # optimizer kwargs in dict format (optional too)\n",
    "\n",
    "# Actually, there are a lot of params for kekers, but this out of scope of this example\n",
    "# you can read about them in Keker's docstring (but who really reads the docs, huh?)"
   ]
  },
  {
   "cell_type": "code",
   "execution_count": null,
   "metadata": {},
   "outputs": [],
   "source": [
    "# before the start of the finetuning procedure let's freeeze all the layers except the last one - the head\n",
    "# the `freeze` method is mostly inspired (or stolen) from fastai\n",
    "# but you should define a model's attribute to deal with\n",
    "# for example, our model is actually model.net, so we need to specify the 'net' attr\n",
    "# also this method does not freezes batchnorm layers by default. To change this set `freeze_bn=True`\n",
    "\n",
    "#keker.freeze(model_attr=\"net\")"
   ]
  },
  {
   "cell_type": "markdown",
   "metadata": {},
   "source": [
    "## Learning Rate Find"
   ]
  },
  {
   "cell_type": "code",
   "execution_count": 36,
   "metadata": {
    "deletable": false,
    "editable": false,
    "run_control": {
     "frozen": true
    },
    "scrolled": true
   },
   "outputs": [
    {
     "name": "stdout",
     "output_type": "stream",
     "text": [
      "Epoch 1/1: 100% 32/32 [03:09<00:00,  4.23s/it, loss=2.4019]\n",
      "End of LRFinder\n",
      "\n"
     ]
    }
   ],
   "source": [
    "# let's find an 'optimal' learning rate with learning rate find procedure\n",
    "# for details please see the fastai course and this articles:\n",
    "# https://arxiv.org/abs/1803.09820\n",
    "# https://sgugger.github.io/how-do-you-find-a-good-learning-rate.html\n",
    "\n",
    "# NOTE: this is an optional step and you can skip it and use your favorite learning rate\n",
    "\n",
    "# you MUST specify the logdir to see graphics\n",
    "# keker will write a tensorboard logs into this folder\n",
    "# to see them start a tensorboard with `--logdir /path/to/logdir`\n",
    "# OR you can use keker.plot_kek_lr method (see cell below)\n",
    "keker.kek_lr(final_lr=0.1, logdir=\"logdir_lr\")"
   ]
  },
  {
   "cell_type": "code",
   "execution_count": 37,
   "metadata": {
    "deletable": false,
    "editable": false,
    "run_control": {
     "frozen": true
    }
   },
   "outputs": [
    {
     "data": {
      "text/html": [
       "<script type=\"text/javascript\">window.PlotlyConfig = {MathJaxConfig: 'local'};</script><script type=\"text/javascript\">if (window.MathJax) {MathJax.Hub.Config({SVG: {font: \"STIX-Web\"}});}</script><script>requirejs.config({paths: { 'plotly': ['https://cdn.plot.ly/plotly-latest.min']},});if(!window._Plotly) {require(['plotly'],function(plotly) {window._Plotly=plotly;});}</script>"
      ],
      "text/vnd.plotly.v1+html": [
       "<script type=\"text/javascript\">window.PlotlyConfig = {MathJaxConfig: 'local'};</script><script type=\"text/javascript\">if (window.MathJax) {MathJax.Hub.Config({SVG: {font: \"STIX-Web\"}});}</script><script>requirejs.config({paths: { 'plotly': ['https://cdn.plot.ly/plotly-latest.min']},});if(!window._Plotly) {require(['plotly'],function(plotly) {window._Plotly=plotly;});}</script>"
      ]
     },
     "metadata": {},
     "output_type": "display_data"
    },
    {
     "data": {
      "application/vnd.plotly.v1+json": {
       "config": {
        "linkText": "Export to plot.ly",
        "plotlyServerURL": "https://plot.ly",
        "showLink": false
       },
       "data": [
        {
         "name": "train/batch/loss",
         "type": "scatter",
         "uid": "3cfc8c95-69f0-48f7-9865-3696748d940c",
         "x": [
          0,
          1,
          2,
          3,
          4,
          5,
          6,
          7,
          8,
          9,
          10,
          11,
          12,
          13,
          14,
          15,
          16,
          17,
          18,
          19,
          20,
          21,
          22,
          23,
          24,
          25,
          26,
          27,
          28,
          29,
          30,
          31
         ],
         "y": [
          3.1508469581604004,
          3.155036687850952,
          3.1586554050445557,
          3.1575560569763184,
          3.15378999710083,
          3.157327651977539,
          3.1372246742248535,
          3.147700309753418,
          3.154764175415039,
          3.154165029525757,
          3.164154291152954,
          3.139570951461792,
          3.1136326789855957,
          3.153083562850952,
          3.1389577388763428,
          3.1245481967926025,
          3.1077356338500977,
          3.121633529663086,
          3.0495405197143555,
          2.961421489715576,
          2.9264042377471924,
          2.8268916606903076,
          2.728623867034912,
          2.633754014968872,
          2.5442726612091064,
          2.4414467811584473,
          2.356302261352539,
          2.1476333141326904,
          1.9068760871887207,
          1.7697784900665283,
          1.7481977939605713,
          1.418802261352539
         ]
        }
       ],
       "layout": {
        "title": {
         "text": "batch/loss"
        },
        "yaxis": {
         "hoverformat": ".6f"
        }
       }
      },
      "text/html": [
       "<div id=\"a5aa72f6-c5bf-4b32-91db-68b25e6dfb22\" style=\"height: 525px; width: 100%;\" class=\"plotly-graph-div\"></div><script type=\"text/javascript\">require([\"plotly\"], function(Plotly) { window.PLOTLYENV=window.PLOTLYENV || {};window.PLOTLYENV.BASE_URL=\"https://plot.ly\";\n",
       "if (document.getElementById(\"a5aa72f6-c5bf-4b32-91db-68b25e6dfb22\")) {\n",
       "    Plotly.newPlot(\"a5aa72f6-c5bf-4b32-91db-68b25e6dfb22\", [{\"name\": \"train/batch/loss\", \"x\": [0, 1, 2, 3, 4, 5, 6, 7, 8, 9, 10, 11, 12, 13, 14, 15, 16, 17, 18, 19, 20, 21, 22, 23, 24, 25, 26, 27, 28, 29, 30, 31], \"y\": [3.1508469581604004, 3.155036687850952, 3.1586554050445557, 3.1575560569763184, 3.15378999710083, 3.157327651977539, 3.1372246742248535, 3.147700309753418, 3.154764175415039, 3.154165029525757, 3.164154291152954, 3.139570951461792, 3.1136326789855957, 3.153083562850952, 3.1389577388763428, 3.1245481967926025, 3.1077356338500977, 3.121633529663086, 3.0495405197143555, 2.961421489715576, 2.9264042377471924, 2.8268916606903076, 2.728623867034912, 2.633754014968872, 2.5442726612091064, 2.4414467811584473, 2.356302261352539, 2.1476333141326904, 1.9068760871887207, 1.7697784900665283, 1.7481977939605713, 1.418802261352539], \"type\": \"scatter\", \"uid\": \"3cfc8c95-69f0-48f7-9865-3696748d940c\"}], {\"title\": {\"text\": \"batch/loss\"}, \"yaxis\": {\"hoverformat\": \".6f\"}}, {\"showLink\": false, \"linkText\": \"Export to plot.ly\", \"plotlyServerURL\": \"https://plot.ly\"}); \n",
       "}\n",
       "});</script><script type=\"text/javascript\">window.addEventListener(\"resize\", function(){if (document.getElementById(\"a5aa72f6-c5bf-4b32-91db-68b25e6dfb22\")) {window._Plotly.Plots.resize(document.getElementById(\"a5aa72f6-c5bf-4b32-91db-68b25e6dfb22\"));};})</script>"
      ],
      "text/vnd.plotly.v1+html": [
       "<div id=\"a5aa72f6-c5bf-4b32-91db-68b25e6dfb22\" style=\"height: 525px; width: 100%;\" class=\"plotly-graph-div\"></div><script type=\"text/javascript\">require([\"plotly\"], function(Plotly) { window.PLOTLYENV=window.PLOTLYENV || {};window.PLOTLYENV.BASE_URL=\"https://plot.ly\";\n",
       "if (document.getElementById(\"a5aa72f6-c5bf-4b32-91db-68b25e6dfb22\")) {\n",
       "    Plotly.newPlot(\"a5aa72f6-c5bf-4b32-91db-68b25e6dfb22\", [{\"name\": \"train/batch/loss\", \"x\": [0, 1, 2, 3, 4, 5, 6, 7, 8, 9, 10, 11, 12, 13, 14, 15, 16, 17, 18, 19, 20, 21, 22, 23, 24, 25, 26, 27, 28, 29, 30, 31], \"y\": [3.1508469581604004, 3.155036687850952, 3.1586554050445557, 3.1575560569763184, 3.15378999710083, 3.157327651977539, 3.1372246742248535, 3.147700309753418, 3.154764175415039, 3.154165029525757, 3.164154291152954, 3.139570951461792, 3.1136326789855957, 3.153083562850952, 3.1389577388763428, 3.1245481967926025, 3.1077356338500977, 3.121633529663086, 3.0495405197143555, 2.961421489715576, 2.9264042377471924, 2.8268916606903076, 2.728623867034912, 2.633754014968872, 2.5442726612091064, 2.4414467811584473, 2.356302261352539, 2.1476333141326904, 1.9068760871887207, 1.7697784900665283, 1.7481977939605713, 1.418802261352539], \"type\": \"scatter\", \"uid\": \"3cfc8c95-69f0-48f7-9865-3696748d940c\"}], {\"title\": {\"text\": \"batch/loss\"}, \"yaxis\": {\"hoverformat\": \".6f\"}}, {\"showLink\": false, \"linkText\": \"Export to plot.ly\", \"plotlyServerURL\": \"https://plot.ly\"}); \n",
       "}\n",
       "});</script><script type=\"text/javascript\">window.addEventListener(\"resize\", function(){if (document.getElementById(\"a5aa72f6-c5bf-4b32-91db-68b25e6dfb22\")) {window._Plotly.Plots.resize(document.getElementById(\"a5aa72f6-c5bf-4b32-91db-68b25e6dfb22\"));};})</script>"
      ]
     },
     "metadata": {},
     "output_type": "display_data"
    },
    {
     "data": {
      "application/vnd.plotly.v1+json": {
       "config": {
        "linkText": "Export to plot.ly",
        "plotlyServerURL": "https://plot.ly",
        "showLink": false
       },
       "data": [
        {
         "name": "train/batch/lr",
         "type": "scatter",
         "uid": "a42398fb-047c-41dd-821f-cf43a25d134e",
         "x": [
          0,
          1,
          2,
          3,
          4,
          5,
          6,
          7,
          8,
          9,
          10,
          11,
          12,
          13,
          14,
          15,
          16,
          17,
          18,
          19,
          20,
          21,
          22,
          23,
          24,
          25,
          26,
          27,
          28,
          29,
          30,
          31
         ],
         "y": [
          9.999999974752427e-07,
          1.4497406937152846e-06,
          2.1017481230956037e-06,
          3.046989604627015e-06,
          4.417344825924374e-06,
          6.404004125215579e-06,
          9.284145562560298e-06,
          1.3459602996590547e-05,
          1.951293415913824e-05,
          2.8288694011280313e-05,
          4.101126978639513e-05,
          5.945570592302829e-05,
          8.619535947218537e-05,
          0.00012496091949287802,
          0.0001811609254218638,
          0.0002626363420858979,
          0.0003807546163443476,
          0.0005519954138435423,
          0.0008002502145245671,
          0.0011601552832871675,
          0.00168192433193326,
          0.0024383540730923414,
          0.0035349810495972633,
          0.005124805960804224,
          0.007429639343172312,
          0.010771050117909908,
          0.015615230426192284,
          0.02263803407549858,
          0.03281927853822708,
          0.04757944494485855,
          0.06897785514593124,
          0.10000000149011612
         ]
        }
       ],
       "layout": {
        "title": {
         "text": "batch/lr"
        },
        "yaxis": {
         "hoverformat": ".6f"
        }
       }
      },
      "text/html": [
       "<div id=\"0cb55059-5750-4cc6-ab3c-42bf86a74671\" style=\"height: 525px; width: 100%;\" class=\"plotly-graph-div\"></div><script type=\"text/javascript\">require([\"plotly\"], function(Plotly) { window.PLOTLYENV=window.PLOTLYENV || {};window.PLOTLYENV.BASE_URL=\"https://plot.ly\";\n",
       "if (document.getElementById(\"0cb55059-5750-4cc6-ab3c-42bf86a74671\")) {\n",
       "    Plotly.newPlot(\"0cb55059-5750-4cc6-ab3c-42bf86a74671\", [{\"name\": \"train/batch/lr\", \"x\": [0, 1, 2, 3, 4, 5, 6, 7, 8, 9, 10, 11, 12, 13, 14, 15, 16, 17, 18, 19, 20, 21, 22, 23, 24, 25, 26, 27, 28, 29, 30, 31], \"y\": [9.999999974752427e-07, 1.4497406937152846e-06, 2.1017481230956037e-06, 3.046989604627015e-06, 4.417344825924374e-06, 6.404004125215579e-06, 9.284145562560298e-06, 1.3459602996590547e-05, 1.951293415913824e-05, 2.8288694011280313e-05, 4.101126978639513e-05, 5.945570592302829e-05, 8.619535947218537e-05, 0.00012496091949287802, 0.0001811609254218638, 0.0002626363420858979, 0.0003807546163443476, 0.0005519954138435423, 0.0008002502145245671, 0.0011601552832871675, 0.00168192433193326, 0.0024383540730923414, 0.0035349810495972633, 0.005124805960804224, 0.007429639343172312, 0.010771050117909908, 0.015615230426192284, 0.02263803407549858, 0.03281927853822708, 0.04757944494485855, 0.06897785514593124, 0.10000000149011612], \"type\": \"scatter\", \"uid\": \"a42398fb-047c-41dd-821f-cf43a25d134e\"}], {\"title\": {\"text\": \"batch/lr\"}, \"yaxis\": {\"hoverformat\": \".6f\"}}, {\"showLink\": false, \"linkText\": \"Export to plot.ly\", \"plotlyServerURL\": \"https://plot.ly\"}); \n",
       "}\n",
       "});</script><script type=\"text/javascript\">window.addEventListener(\"resize\", function(){if (document.getElementById(\"0cb55059-5750-4cc6-ab3c-42bf86a74671\")) {window._Plotly.Plots.resize(document.getElementById(\"0cb55059-5750-4cc6-ab3c-42bf86a74671\"));};})</script>"
      ],
      "text/vnd.plotly.v1+html": [
       "<div id=\"0cb55059-5750-4cc6-ab3c-42bf86a74671\" style=\"height: 525px; width: 100%;\" class=\"plotly-graph-div\"></div><script type=\"text/javascript\">require([\"plotly\"], function(Plotly) { window.PLOTLYENV=window.PLOTLYENV || {};window.PLOTLYENV.BASE_URL=\"https://plot.ly\";\n",
       "if (document.getElementById(\"0cb55059-5750-4cc6-ab3c-42bf86a74671\")) {\n",
       "    Plotly.newPlot(\"0cb55059-5750-4cc6-ab3c-42bf86a74671\", [{\"name\": \"train/batch/lr\", \"x\": [0, 1, 2, 3, 4, 5, 6, 7, 8, 9, 10, 11, 12, 13, 14, 15, 16, 17, 18, 19, 20, 21, 22, 23, 24, 25, 26, 27, 28, 29, 30, 31], \"y\": [9.999999974752427e-07, 1.4497406937152846e-06, 2.1017481230956037e-06, 3.046989604627015e-06, 4.417344825924374e-06, 6.404004125215579e-06, 9.284145562560298e-06, 1.3459602996590547e-05, 1.951293415913824e-05, 2.8288694011280313e-05, 4.101126978639513e-05, 5.945570592302829e-05, 8.619535947218537e-05, 0.00012496091949287802, 0.0001811609254218638, 0.0002626363420858979, 0.0003807546163443476, 0.0005519954138435423, 0.0008002502145245671, 0.0011601552832871675, 0.00168192433193326, 0.0024383540730923414, 0.0035349810495972633, 0.005124805960804224, 0.007429639343172312, 0.010771050117909908, 0.015615230426192284, 0.02263803407549858, 0.03281927853822708, 0.04757944494485855, 0.06897785514593124, 0.10000000149011612], \"type\": \"scatter\", \"uid\": \"a42398fb-047c-41dd-821f-cf43a25d134e\"}], {\"title\": {\"text\": \"batch/lr\"}, \"yaxis\": {\"hoverformat\": \".6f\"}}, {\"showLink\": false, \"linkText\": \"Export to plot.ly\", \"plotlyServerURL\": \"https://plot.ly\"}); \n",
       "}\n",
       "});</script><script type=\"text/javascript\">window.addEventListener(\"resize\", function(){if (document.getElementById(\"0cb55059-5750-4cc6-ab3c-42bf86a74671\")) {window._Plotly.Plots.resize(document.getElementById(\"0cb55059-5750-4cc6-ab3c-42bf86a74671\"));};})</script>"
      ]
     },
     "metadata": {},
     "output_type": "display_data"
    }
   ],
   "source": [
    "keker.plot_kek_lr(logdir=\"logdir_lr\")"
   ]
  },
  {
   "cell_type": "code",
   "execution_count": null,
   "metadata": {},
   "outputs": [
    {
     "name": "stdout",
     "output_type": "stream",
     "text": [
      "Epoch 1/384: 100% 32/32 [03:34<00:00,  4.02s/it, loss=1.9562, val_loss=1.6875]\n",
      "Epoch 2/384:  31% 10/32 [01:36<02:27,  6.71s/it, loss=1.6038]"
     ]
    }
   ],
   "source": [
    "# Ok, now let's start training!\n",
    "# It's as simple as:\n",
    "keker.kek_one_cycle(cycle_len=params['n_epoch'], max_lr=params['max_lr'],  div_factor=1000, increase_fraction=0.1, logdir=logdir)"
   ]
  },
  {
   "cell_type": "code",
   "execution_count": null,
   "metadata": {},
   "outputs": [],
   "source": [
    "keker.plot_kek(logdir=logdir)"
   ]
  },
  {
   "cell_type": "code",
   "execution_count": null,
   "metadata": {},
   "outputs": [],
   "source": []
  }
 ],
 "metadata": {
  "kernelspec": {
   "display_name": "Python 3",
   "language": "python",
   "name": "python3"
  },
  "language_info": {
   "codemirror_mode": {
    "name": "ipython",
    "version": 3
   },
   "file_extension": ".py",
   "mimetype": "text/x-python",
   "name": "python",
   "nbconvert_exporter": "python",
   "pygments_lexer": "ipython3",
   "version": "3.6.8"
  },
  "toc": {
   "base_numbering": 1,
   "nav_menu": {},
   "number_sections": true,
   "sideBar": true,
   "skip_h1_title": false,
   "title_cell": "Table of Contents",
   "title_sidebar": "Contents",
   "toc_cell": false,
   "toc_position": {
    "height": "calc(100% - 180px)",
    "left": "10px",
    "top": "150px",
    "width": "469.333px"
   },
   "toc_section_display": true,
   "toc_window_display": true
  }
 },
 "nbformat": 4,
 "nbformat_minor": 2
}
